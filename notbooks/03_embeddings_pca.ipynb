{
 "cells": [
  {
   "cell_type": "code",
   "execution_count": 2,
   "id": "93efceaa",
   "metadata": {},
   "outputs": [],
   "source": [
    "# Imports\n",
    "import torch\n",
    "from transformers import AutoTokenizer, AutoModel\n",
    "import pandas as pd\n",
    "from tqdm import tqdm\n",
    "import os\n",
    "import numpy as np\n",
    "from sklearn.decomposition import PCA\n",
    "from sklearn.decomposition import IncrementalPCA\n",
    "import pickle"
   ]
  },
  {
   "cell_type": "code",
   "execution_count": 4,
   "id": "0e0fb1f5",
   "metadata": {},
   "outputs": [
    {
     "name": "stdout",
     "output_type": "stream",
     "text": [
      "Using device: mps\n"
     ]
    },
    {
     "name": "stderr",
     "output_type": "stream",
     "text": [
      "Some weights of RobertaModel were not initialized from the model checkpoint at cardiffnlp/twitter-roberta-base-sentiment and are newly initialized: ['pooler.dense.bias', 'pooler.dense.weight']\n",
      "You should probably TRAIN this model on a down-stream task to be able to use it for predictions and inference.\n"
     ]
    }
   ],
   "source": [
    "# Seeting up embeddings\n",
    "device = torch.device(\"cuda\" if torch.cuda.is_available() else \"mps\" if torch.backends.mps.is_available() else \"cpu\")\n",
    "print(f\"Using device: {device}\")\n",
    "\n",
    "# Loading RoBERTa base model and tokenizer\n",
    "tokenizer = AutoTokenizer.from_pretrained(\"cardiffnlp/twitter-roberta-base-sentiment\")\n",
    "model = AutoModel.from_pretrained(\"cardiffnlp/twitter-roberta-base-sentiment\")\n",
    "model.to(device)\n",
    "model.eval()\n",
    "\n",
    "# Paths\n",
    "input_file = '/Users/diegolemos/Masters/Theses/code/data/processed/customer_data_final.pkl'\n",
    "output_folder = '/Users/diegolemos/Masters/Theses/code/data/processed/embeddings/'\n",
    "os.makedirs(output_folder, exist_ok=True)"
   ]
  },
  {
   "cell_type": "code",
   "execution_count": 5,
   "id": "1a301fe5",
   "metadata": {},
   "outputs": [],
   "source": [
    "# Defining the embedding function\n",
    "def get_roberta_embedding(text):\n",
    "    inputs = tokenizer(text, return_tensors=\"pt\", truncation=True, padding=True, max_length=128).to(device)\n",
    "    with torch.no_grad():\n",
    "        outputs = model(**inputs)\n",
    "    return outputs.last_hidden_state[:, 0, :].squeeze().cpu().numpy()\n"
   ]
  },
  {
   "cell_type": "code",
   "execution_count": 6,
   "id": "fb450d72",
   "metadata": {},
   "outputs": [
    {
     "name": "stdout",
     "output_type": "stream",
     "text": [
      "Processing chunk 1/68 - rows 0 to 19999\n"
     ]
    },
    {
     "name": "stderr",
     "output_type": "stream",
     "text": [
      "                                                               \r"
     ]
    },
    {
     "name": "stdout",
     "output_type": "stream",
     "text": [
      "Saved to /Users/diegolemos/Masters/Theses/code/data/processed/embeddings/embeddings_chunk_1.pkl\n",
      "Processing chunk 2/68 - rows 20000 to 39999\n"
     ]
    },
    {
     "name": "stderr",
     "output_type": "stream",
     "text": [
      "                                                               \r"
     ]
    },
    {
     "name": "stdout",
     "output_type": "stream",
     "text": [
      "Saved to /Users/diegolemos/Masters/Theses/code/data/processed/embeddings/embeddings_chunk_2.pkl\n",
      "Processing chunk 3/68 - rows 40000 to 59999\n"
     ]
    },
    {
     "name": "stderr",
     "output_type": "stream",
     "text": [
      "                                                               \r"
     ]
    },
    {
     "name": "stdout",
     "output_type": "stream",
     "text": [
      "Saved to /Users/diegolemos/Masters/Theses/code/data/processed/embeddings/embeddings_chunk_3.pkl\n",
      "Processing chunk 4/68 - rows 60000 to 79999\n"
     ]
    },
    {
     "name": "stderr",
     "output_type": "stream",
     "text": [
      "                                                               \r"
     ]
    },
    {
     "name": "stdout",
     "output_type": "stream",
     "text": [
      "Saved to /Users/diegolemos/Masters/Theses/code/data/processed/embeddings/embeddings_chunk_4.pkl\n",
      "Processing chunk 5/68 - rows 80000 to 99999\n"
     ]
    },
    {
     "name": "stderr",
     "output_type": "stream",
     "text": [
      "                                                               \r"
     ]
    },
    {
     "name": "stdout",
     "output_type": "stream",
     "text": [
      "Saved to /Users/diegolemos/Masters/Theses/code/data/processed/embeddings/embeddings_chunk_5.pkl\n",
      "Processing chunk 6/68 - rows 100000 to 119999\n"
     ]
    },
    {
     "name": "stderr",
     "output_type": "stream",
     "text": [
      "                                                               \r"
     ]
    },
    {
     "name": "stdout",
     "output_type": "stream",
     "text": [
      "Saved to /Users/diegolemos/Masters/Theses/code/data/processed/embeddings/embeddings_chunk_6.pkl\n",
      "Processing chunk 7/68 - rows 120000 to 139999\n"
     ]
    },
    {
     "name": "stderr",
     "output_type": "stream",
     "text": [
      "                                                               \r"
     ]
    },
    {
     "name": "stdout",
     "output_type": "stream",
     "text": [
      "Saved to /Users/diegolemos/Masters/Theses/code/data/processed/embeddings/embeddings_chunk_7.pkl\n",
      "Processing chunk 8/68 - rows 140000 to 159999\n"
     ]
    },
    {
     "name": "stderr",
     "output_type": "stream",
     "text": [
      "                                                               \r"
     ]
    },
    {
     "name": "stdout",
     "output_type": "stream",
     "text": [
      "Saved to /Users/diegolemos/Masters/Theses/code/data/processed/embeddings/embeddings_chunk_8.pkl\n",
      "Processing chunk 9/68 - rows 160000 to 179999\n"
     ]
    },
    {
     "name": "stderr",
     "output_type": "stream",
     "text": [
      "                                                               \r"
     ]
    },
    {
     "name": "stdout",
     "output_type": "stream",
     "text": [
      "Saved to /Users/diegolemos/Masters/Theses/code/data/processed/embeddings/embeddings_chunk_9.pkl\n",
      "Processing chunk 10/68 - rows 180000 to 199999\n"
     ]
    },
    {
     "name": "stderr",
     "output_type": "stream",
     "text": [
      "                                                               \r"
     ]
    },
    {
     "name": "stdout",
     "output_type": "stream",
     "text": [
      "Saved to /Users/diegolemos/Masters/Theses/code/data/processed/embeddings/embeddings_chunk_10.pkl\n",
      "Processing chunk 11/68 - rows 200000 to 219999\n"
     ]
    },
    {
     "name": "stderr",
     "output_type": "stream",
     "text": [
      "                                                               \r"
     ]
    },
    {
     "name": "stdout",
     "output_type": "stream",
     "text": [
      "Saved to /Users/diegolemos/Masters/Theses/code/data/processed/embeddings/embeddings_chunk_11.pkl\n",
      "Processing chunk 12/68 - rows 220000 to 239999\n"
     ]
    },
    {
     "name": "stderr",
     "output_type": "stream",
     "text": [
      "                                                               \r"
     ]
    },
    {
     "name": "stdout",
     "output_type": "stream",
     "text": [
      "Saved to /Users/diegolemos/Masters/Theses/code/data/processed/embeddings/embeddings_chunk_12.pkl\n",
      "Processing chunk 13/68 - rows 240000 to 259999\n"
     ]
    },
    {
     "name": "stderr",
     "output_type": "stream",
     "text": [
      "                                                               \r"
     ]
    },
    {
     "name": "stdout",
     "output_type": "stream",
     "text": [
      "Saved to /Users/diegolemos/Masters/Theses/code/data/processed/embeddings/embeddings_chunk_13.pkl\n",
      "Processing chunk 14/68 - rows 260000 to 279999\n"
     ]
    },
    {
     "name": "stderr",
     "output_type": "stream",
     "text": [
      "                                                               \r"
     ]
    },
    {
     "name": "stdout",
     "output_type": "stream",
     "text": [
      "Saved to /Users/diegolemos/Masters/Theses/code/data/processed/embeddings/embeddings_chunk_14.pkl\n",
      "Processing chunk 15/68 - rows 280000 to 299999\n"
     ]
    },
    {
     "name": "stderr",
     "output_type": "stream",
     "text": [
      "                                                               \r"
     ]
    },
    {
     "name": "stdout",
     "output_type": "stream",
     "text": [
      "Saved to /Users/diegolemos/Masters/Theses/code/data/processed/embeddings/embeddings_chunk_15.pkl\n",
      "Processing chunk 16/68 - rows 300000 to 319999\n"
     ]
    },
    {
     "name": "stderr",
     "output_type": "stream",
     "text": [
      "                                                               \r"
     ]
    },
    {
     "name": "stdout",
     "output_type": "stream",
     "text": [
      "Saved to /Users/diegolemos/Masters/Theses/code/data/processed/embeddings/embeddings_chunk_16.pkl\n",
      "Processing chunk 17/68 - rows 320000 to 339999\n"
     ]
    },
    {
     "name": "stderr",
     "output_type": "stream",
     "text": [
      "                                                               \r"
     ]
    },
    {
     "name": "stdout",
     "output_type": "stream",
     "text": [
      "Saved to /Users/diegolemos/Masters/Theses/code/data/processed/embeddings/embeddings_chunk_17.pkl\n",
      "Processing chunk 18/68 - rows 340000 to 359999\n"
     ]
    },
    {
     "name": "stderr",
     "output_type": "stream",
     "text": [
      "                                                               \r"
     ]
    },
    {
     "name": "stdout",
     "output_type": "stream",
     "text": [
      "Saved to /Users/diegolemos/Masters/Theses/code/data/processed/embeddings/embeddings_chunk_18.pkl\n",
      "Processing chunk 19/68 - rows 360000 to 379999\n"
     ]
    },
    {
     "name": "stderr",
     "output_type": "stream",
     "text": [
      "                                                               \r"
     ]
    },
    {
     "name": "stdout",
     "output_type": "stream",
     "text": [
      "Saved to /Users/diegolemos/Masters/Theses/code/data/processed/embeddings/embeddings_chunk_19.pkl\n",
      "Processing chunk 20/68 - rows 380000 to 399999\n"
     ]
    },
    {
     "name": "stderr",
     "output_type": "stream",
     "text": [
      "                                                               \r"
     ]
    },
    {
     "name": "stdout",
     "output_type": "stream",
     "text": [
      "Saved to /Users/diegolemos/Masters/Theses/code/data/processed/embeddings/embeddings_chunk_20.pkl\n",
      "Processing chunk 21/68 - rows 400000 to 419999\n"
     ]
    },
    {
     "name": "stderr",
     "output_type": "stream",
     "text": [
      "                                                               \r"
     ]
    },
    {
     "name": "stdout",
     "output_type": "stream",
     "text": [
      "Saved to /Users/diegolemos/Masters/Theses/code/data/processed/embeddings/embeddings_chunk_21.pkl\n",
      "Processing chunk 22/68 - rows 420000 to 439999\n"
     ]
    },
    {
     "name": "stderr",
     "output_type": "stream",
     "text": [
      "                                                               \r"
     ]
    },
    {
     "name": "stdout",
     "output_type": "stream",
     "text": [
      "Saved to /Users/diegolemos/Masters/Theses/code/data/processed/embeddings/embeddings_chunk_22.pkl\n",
      "Processing chunk 23/68 - rows 440000 to 459999\n"
     ]
    },
    {
     "name": "stderr",
     "output_type": "stream",
     "text": [
      "                                                               \r"
     ]
    },
    {
     "name": "stdout",
     "output_type": "stream",
     "text": [
      "Saved to /Users/diegolemos/Masters/Theses/code/data/processed/embeddings/embeddings_chunk_23.pkl\n",
      "Processing chunk 24/68 - rows 460000 to 479999\n"
     ]
    },
    {
     "name": "stderr",
     "output_type": "stream",
     "text": [
      "                                                               \r"
     ]
    },
    {
     "name": "stdout",
     "output_type": "stream",
     "text": [
      "Saved to /Users/diegolemos/Masters/Theses/code/data/processed/embeddings/embeddings_chunk_24.pkl\n",
      "Processing chunk 25/68 - rows 480000 to 499999\n"
     ]
    },
    {
     "name": "stderr",
     "output_type": "stream",
     "text": [
      "                                                               \r"
     ]
    },
    {
     "name": "stdout",
     "output_type": "stream",
     "text": [
      "Saved to /Users/diegolemos/Masters/Theses/code/data/processed/embeddings/embeddings_chunk_25.pkl\n",
      "Processing chunk 26/68 - rows 500000 to 519999\n"
     ]
    },
    {
     "name": "stderr",
     "output_type": "stream",
     "text": [
      "                                                               \r"
     ]
    },
    {
     "name": "stdout",
     "output_type": "stream",
     "text": [
      "Saved to /Users/diegolemos/Masters/Theses/code/data/processed/embeddings/embeddings_chunk_26.pkl\n",
      "Processing chunk 27/68 - rows 520000 to 539999\n"
     ]
    },
    {
     "name": "stderr",
     "output_type": "stream",
     "text": [
      "                                                               \r"
     ]
    },
    {
     "name": "stdout",
     "output_type": "stream",
     "text": [
      "Saved to /Users/diegolemos/Masters/Theses/code/data/processed/embeddings/embeddings_chunk_27.pkl\n",
      "Processing chunk 28/68 - rows 540000 to 559999\n"
     ]
    },
    {
     "name": "stderr",
     "output_type": "stream",
     "text": [
      "                                                               \r"
     ]
    },
    {
     "name": "stdout",
     "output_type": "stream",
     "text": [
      "Saved to /Users/diegolemos/Masters/Theses/code/data/processed/embeddings/embeddings_chunk_28.pkl\n",
      "Processing chunk 29/68 - rows 560000 to 579999\n"
     ]
    },
    {
     "name": "stderr",
     "output_type": "stream",
     "text": [
      "                                                               \r"
     ]
    },
    {
     "name": "stdout",
     "output_type": "stream",
     "text": [
      "Saved to /Users/diegolemos/Masters/Theses/code/data/processed/embeddings/embeddings_chunk_29.pkl\n",
      "Processing chunk 30/68 - rows 580000 to 599999\n"
     ]
    },
    {
     "name": "stderr",
     "output_type": "stream",
     "text": [
      "                                                               \r"
     ]
    },
    {
     "name": "stdout",
     "output_type": "stream",
     "text": [
      "Saved to /Users/diegolemos/Masters/Theses/code/data/processed/embeddings/embeddings_chunk_30.pkl\n",
      "Processing chunk 31/68 - rows 600000 to 619999\n"
     ]
    },
    {
     "name": "stderr",
     "output_type": "stream",
     "text": [
      "                                                               \r"
     ]
    },
    {
     "name": "stdout",
     "output_type": "stream",
     "text": [
      "Saved to /Users/diegolemos/Masters/Theses/code/data/processed/embeddings/embeddings_chunk_31.pkl\n",
      "Processing chunk 32/68 - rows 620000 to 639999\n"
     ]
    },
    {
     "name": "stderr",
     "output_type": "stream",
     "text": [
      "                                                               \r"
     ]
    },
    {
     "name": "stdout",
     "output_type": "stream",
     "text": [
      "Saved to /Users/diegolemos/Masters/Theses/code/data/processed/embeddings/embeddings_chunk_32.pkl\n",
      "Processing chunk 33/68 - rows 640000 to 659999\n"
     ]
    },
    {
     "name": "stderr",
     "output_type": "stream",
     "text": [
      "                                                               \r"
     ]
    },
    {
     "name": "stdout",
     "output_type": "stream",
     "text": [
      "Saved to /Users/diegolemos/Masters/Theses/code/data/processed/embeddings/embeddings_chunk_33.pkl\n",
      "Processing chunk 34/68 - rows 660000 to 679999\n"
     ]
    },
    {
     "name": "stderr",
     "output_type": "stream",
     "text": [
      "                                                               \r"
     ]
    },
    {
     "name": "stdout",
     "output_type": "stream",
     "text": [
      "Saved to /Users/diegolemos/Masters/Theses/code/data/processed/embeddings/embeddings_chunk_34.pkl\n",
      "Processing chunk 35/68 - rows 680000 to 699999\n"
     ]
    },
    {
     "name": "stderr",
     "output_type": "stream",
     "text": [
      "                                                               \r"
     ]
    },
    {
     "name": "stdout",
     "output_type": "stream",
     "text": [
      "Saved to /Users/diegolemos/Masters/Theses/code/data/processed/embeddings/embeddings_chunk_35.pkl\n",
      "Processing chunk 36/68 - rows 700000 to 719999\n"
     ]
    },
    {
     "name": "stderr",
     "output_type": "stream",
     "text": [
      "                                                               \r"
     ]
    },
    {
     "name": "stdout",
     "output_type": "stream",
     "text": [
      "Saved to /Users/diegolemos/Masters/Theses/code/data/processed/embeddings/embeddings_chunk_36.pkl\n",
      "Processing chunk 37/68 - rows 720000 to 739999\n"
     ]
    },
    {
     "name": "stderr",
     "output_type": "stream",
     "text": [
      "                                                               \r"
     ]
    },
    {
     "name": "stdout",
     "output_type": "stream",
     "text": [
      "Saved to /Users/diegolemos/Masters/Theses/code/data/processed/embeddings/embeddings_chunk_37.pkl\n",
      "Processing chunk 38/68 - rows 740000 to 759999\n"
     ]
    },
    {
     "name": "stderr",
     "output_type": "stream",
     "text": [
      "                                                               \r"
     ]
    },
    {
     "name": "stdout",
     "output_type": "stream",
     "text": [
      "Saved to /Users/diegolemos/Masters/Theses/code/data/processed/embeddings/embeddings_chunk_38.pkl\n",
      "Processing chunk 39/68 - rows 760000 to 779999\n"
     ]
    },
    {
     "name": "stderr",
     "output_type": "stream",
     "text": [
      "                                                               \r"
     ]
    },
    {
     "name": "stdout",
     "output_type": "stream",
     "text": [
      "Saved to /Users/diegolemos/Masters/Theses/code/data/processed/embeddings/embeddings_chunk_39.pkl\n",
      "Processing chunk 40/68 - rows 780000 to 799999\n"
     ]
    },
    {
     "name": "stderr",
     "output_type": "stream",
     "text": [
      "                                                               \r"
     ]
    },
    {
     "name": "stdout",
     "output_type": "stream",
     "text": [
      "Saved to /Users/diegolemos/Masters/Theses/code/data/processed/embeddings/embeddings_chunk_40.pkl\n",
      "Processing chunk 41/68 - rows 800000 to 819999\n"
     ]
    },
    {
     "name": "stderr",
     "output_type": "stream",
     "text": [
      "                                                               \r"
     ]
    },
    {
     "name": "stdout",
     "output_type": "stream",
     "text": [
      "Saved to /Users/diegolemos/Masters/Theses/code/data/processed/embeddings/embeddings_chunk_41.pkl\n",
      "Processing chunk 42/68 - rows 820000 to 839999\n"
     ]
    },
    {
     "name": "stderr",
     "output_type": "stream",
     "text": [
      "                                                               \r"
     ]
    },
    {
     "name": "stdout",
     "output_type": "stream",
     "text": [
      "Saved to /Users/diegolemos/Masters/Theses/code/data/processed/embeddings/embeddings_chunk_42.pkl\n",
      "Processing chunk 43/68 - rows 840000 to 859999\n"
     ]
    },
    {
     "name": "stderr",
     "output_type": "stream",
     "text": [
      "                                                               \r"
     ]
    },
    {
     "name": "stdout",
     "output_type": "stream",
     "text": [
      "Saved to /Users/diegolemos/Masters/Theses/code/data/processed/embeddings/embeddings_chunk_43.pkl\n",
      "Processing chunk 44/68 - rows 860000 to 879999\n"
     ]
    },
    {
     "name": "stderr",
     "output_type": "stream",
     "text": [
      "                                                               \r"
     ]
    },
    {
     "name": "stdout",
     "output_type": "stream",
     "text": [
      "Saved to /Users/diegolemos/Masters/Theses/code/data/processed/embeddings/embeddings_chunk_44.pkl\n",
      "Processing chunk 45/68 - rows 880000 to 899999\n"
     ]
    },
    {
     "name": "stderr",
     "output_type": "stream",
     "text": [
      "                                                               \r"
     ]
    },
    {
     "name": "stdout",
     "output_type": "stream",
     "text": [
      "Saved to /Users/diegolemos/Masters/Theses/code/data/processed/embeddings/embeddings_chunk_45.pkl\n",
      "Processing chunk 46/68 - rows 900000 to 919999\n"
     ]
    },
    {
     "name": "stderr",
     "output_type": "stream",
     "text": [
      "                                                               \r"
     ]
    },
    {
     "name": "stdout",
     "output_type": "stream",
     "text": [
      "Saved to /Users/diegolemos/Masters/Theses/code/data/processed/embeddings/embeddings_chunk_46.pkl\n",
      "Processing chunk 47/68 - rows 920000 to 939999\n"
     ]
    },
    {
     "name": "stderr",
     "output_type": "stream",
     "text": [
      "                                                               \r"
     ]
    },
    {
     "name": "stdout",
     "output_type": "stream",
     "text": [
      "Saved to /Users/diegolemos/Masters/Theses/code/data/processed/embeddings/embeddings_chunk_47.pkl\n",
      "Processing chunk 48/68 - rows 940000 to 959999\n"
     ]
    },
    {
     "name": "stderr",
     "output_type": "stream",
     "text": [
      "                                                               \r"
     ]
    },
    {
     "name": "stdout",
     "output_type": "stream",
     "text": [
      "Saved to /Users/diegolemos/Masters/Theses/code/data/processed/embeddings/embeddings_chunk_48.pkl\n",
      "Processing chunk 49/68 - rows 960000 to 979999\n"
     ]
    },
    {
     "name": "stderr",
     "output_type": "stream",
     "text": [
      "                                                               \r"
     ]
    },
    {
     "name": "stdout",
     "output_type": "stream",
     "text": [
      "Saved to /Users/diegolemos/Masters/Theses/code/data/processed/embeddings/embeddings_chunk_49.pkl\n",
      "Processing chunk 50/68 - rows 980000 to 999999\n"
     ]
    },
    {
     "name": "stderr",
     "output_type": "stream",
     "text": [
      "                                                               \r"
     ]
    },
    {
     "name": "stdout",
     "output_type": "stream",
     "text": [
      "Saved to /Users/diegolemos/Masters/Theses/code/data/processed/embeddings/embeddings_chunk_50.pkl\n",
      "Processing chunk 51/68 - rows 1000000 to 1019999\n"
     ]
    },
    {
     "name": "stderr",
     "output_type": "stream",
     "text": [
      "                                                               \r"
     ]
    },
    {
     "name": "stdout",
     "output_type": "stream",
     "text": [
      "Saved to /Users/diegolemos/Masters/Theses/code/data/processed/embeddings/embeddings_chunk_51.pkl\n",
      "Processing chunk 52/68 - rows 1020000 to 1039999\n"
     ]
    },
    {
     "name": "stderr",
     "output_type": "stream",
     "text": [
      "                                                               \r"
     ]
    },
    {
     "name": "stdout",
     "output_type": "stream",
     "text": [
      "Saved to /Users/diegolemos/Masters/Theses/code/data/processed/embeddings/embeddings_chunk_52.pkl\n",
      "Processing chunk 53/68 - rows 1040000 to 1059999\n"
     ]
    },
    {
     "name": "stderr",
     "output_type": "stream",
     "text": [
      "                                                               \r"
     ]
    },
    {
     "name": "stdout",
     "output_type": "stream",
     "text": [
      "Saved to /Users/diegolemos/Masters/Theses/code/data/processed/embeddings/embeddings_chunk_53.pkl\n",
      "Processing chunk 54/68 - rows 1060000 to 1079999\n"
     ]
    },
    {
     "name": "stderr",
     "output_type": "stream",
     "text": [
      "                                                               \r"
     ]
    },
    {
     "name": "stdout",
     "output_type": "stream",
     "text": [
      "Saved to /Users/diegolemos/Masters/Theses/code/data/processed/embeddings/embeddings_chunk_54.pkl\n",
      "Processing chunk 55/68 - rows 1080000 to 1099999\n"
     ]
    },
    {
     "name": "stderr",
     "output_type": "stream",
     "text": [
      "                                                               \r"
     ]
    },
    {
     "name": "stdout",
     "output_type": "stream",
     "text": [
      "Saved to /Users/diegolemos/Masters/Theses/code/data/processed/embeddings/embeddings_chunk_55.pkl\n",
      "Processing chunk 56/68 - rows 1100000 to 1119999\n"
     ]
    },
    {
     "name": "stderr",
     "output_type": "stream",
     "text": [
      "                                                               \r"
     ]
    },
    {
     "name": "stdout",
     "output_type": "stream",
     "text": [
      "Saved to /Users/diegolemos/Masters/Theses/code/data/processed/embeddings/embeddings_chunk_56.pkl\n",
      "Processing chunk 57/68 - rows 1120000 to 1139999\n"
     ]
    },
    {
     "name": "stderr",
     "output_type": "stream",
     "text": [
      "                                                               \r"
     ]
    },
    {
     "name": "stdout",
     "output_type": "stream",
     "text": [
      "Saved to /Users/diegolemos/Masters/Theses/code/data/processed/embeddings/embeddings_chunk_57.pkl\n",
      "Processing chunk 58/68 - rows 1140000 to 1159999\n"
     ]
    },
    {
     "name": "stderr",
     "output_type": "stream",
     "text": [
      "                                                               \r"
     ]
    },
    {
     "name": "stdout",
     "output_type": "stream",
     "text": [
      "Saved to /Users/diegolemos/Masters/Theses/code/data/processed/embeddings/embeddings_chunk_58.pkl\n",
      "Processing chunk 59/68 - rows 1160000 to 1179999\n"
     ]
    },
    {
     "name": "stderr",
     "output_type": "stream",
     "text": [
      "                                                               \r"
     ]
    },
    {
     "name": "stdout",
     "output_type": "stream",
     "text": [
      "Saved to /Users/diegolemos/Masters/Theses/code/data/processed/embeddings/embeddings_chunk_59.pkl\n",
      "Processing chunk 60/68 - rows 1180000 to 1199999\n"
     ]
    },
    {
     "name": "stderr",
     "output_type": "stream",
     "text": [
      "                                                               \r"
     ]
    },
    {
     "name": "stdout",
     "output_type": "stream",
     "text": [
      "Saved to /Users/diegolemos/Masters/Theses/code/data/processed/embeddings/embeddings_chunk_60.pkl\n",
      "Processing chunk 61/68 - rows 1200000 to 1219999\n"
     ]
    },
    {
     "name": "stderr",
     "output_type": "stream",
     "text": [
      "                                                               \r"
     ]
    },
    {
     "name": "stdout",
     "output_type": "stream",
     "text": [
      "Saved to /Users/diegolemos/Masters/Theses/code/data/processed/embeddings/embeddings_chunk_61.pkl\n",
      "Processing chunk 62/68 - rows 1220000 to 1239999\n"
     ]
    },
    {
     "name": "stderr",
     "output_type": "stream",
     "text": [
      "                                                               \r"
     ]
    },
    {
     "name": "stdout",
     "output_type": "stream",
     "text": [
      "Saved to /Users/diegolemos/Masters/Theses/code/data/processed/embeddings/embeddings_chunk_62.pkl\n",
      "Processing chunk 63/68 - rows 1240000 to 1259999\n"
     ]
    },
    {
     "name": "stderr",
     "output_type": "stream",
     "text": [
      "                                                               \r"
     ]
    },
    {
     "name": "stdout",
     "output_type": "stream",
     "text": [
      "Saved to /Users/diegolemos/Masters/Theses/code/data/processed/embeddings/embeddings_chunk_63.pkl\n",
      "Processing chunk 64/68 - rows 1260000 to 1279999\n"
     ]
    },
    {
     "name": "stderr",
     "output_type": "stream",
     "text": [
      "                                                               \r"
     ]
    },
    {
     "name": "stdout",
     "output_type": "stream",
     "text": [
      "Saved to /Users/diegolemos/Masters/Theses/code/data/processed/embeddings/embeddings_chunk_64.pkl\n",
      "Processing chunk 65/68 - rows 1280000 to 1299999\n"
     ]
    },
    {
     "name": "stderr",
     "output_type": "stream",
     "text": [
      "                                                               \r"
     ]
    },
    {
     "name": "stdout",
     "output_type": "stream",
     "text": [
      "Saved to /Users/diegolemos/Masters/Theses/code/data/processed/embeddings/embeddings_chunk_65.pkl\n",
      "Processing chunk 66/68 - rows 1300000 to 1319999\n"
     ]
    },
    {
     "name": "stderr",
     "output_type": "stream",
     "text": [
      "                                                               \r"
     ]
    },
    {
     "name": "stdout",
     "output_type": "stream",
     "text": [
      "Saved to /Users/diegolemos/Masters/Theses/code/data/processed/embeddings/embeddings_chunk_66.pkl\n",
      "Processing chunk 67/68 - rows 1320000 to 1339999\n"
     ]
    },
    {
     "name": "stderr",
     "output_type": "stream",
     "text": [
      "                                                               \r"
     ]
    },
    {
     "name": "stdout",
     "output_type": "stream",
     "text": [
      "Saved to /Users/diegolemos/Masters/Theses/code/data/processed/embeddings/embeddings_chunk_67.pkl\n",
      "Processing chunk 68/68 - rows 1340000 to 1345726\n"
     ]
    },
    {
     "name": "stderr",
     "output_type": "stream",
     "text": [
      "                                                             \r"
     ]
    },
    {
     "name": "stdout",
     "output_type": "stream",
     "text": [
      "Saved to /Users/diegolemos/Masters/Theses/code/data/processed/embeddings/embeddings_chunk_68.pkl\n"
     ]
    }
   ],
   "source": [
    "# Loading labeled data\n",
    "df = pd.read_pickle(input_file)\n",
    "df['clean_text'] = df['clean_text'].astype(str)\n",
    "\n",
    "# Chunks\n",
    "chunk_size = 20000\n",
    "num_chunks = (len(df) // chunk_size) + 1\n",
    "\n",
    "for i in range(num_chunks):\n",
    "    chunk = df.iloc[i * chunk_size:(i + 1) * chunk_size].copy()\n",
    "    if chunk.empty:\n",
    "        continue\n",
    "    \n",
    "    print(f\"Processing chunk {i+1}/{num_chunks} - rows {chunk.index[0]} to {chunk.index[-1]}\")\n",
    "    \n",
    "    embeddings = []\n",
    "    for text in tqdm(chunk['clean_text'], desc=\"Encoding\", leave=False):\n",
    "        embeddings.append(get_roberta_embedding(text))\n",
    "    \n",
    "    # Storing embedding as new column\n",
    "    chunk['embedding'] = embeddings\n",
    "\n",
    "    # Save chunk\n",
    "    output_path = os.path.join(output_folder, f'embeddings_chunk_{i+1}.pkl')\n",
    "    chunk.to_pickle(output_path)\n",
    "    print(f\"Saved to {output_path}\")\n",
    "    \n",
    "    # Cleaning up\n",
    "    del chunk, embeddings\n",
    "    torch.cuda.empty_cache() if torch.cuda.is_available() else None\n"
   ]
  },
  {
   "cell_type": "code",
   "execution_count": 9,
   "id": "e36344bd",
   "metadata": {},
   "outputs": [
    {
     "name": "stdout",
     "output_type": "stream",
     "text": [
      "Loading chunk 1/68: /Users/diegolemos/Masters/Theses/code/data/processed/embeddings/embeddings_chunk_1.pkl\n",
      "Loading chunk 2/68: /Users/diegolemos/Masters/Theses/code/data/processed/embeddings/embeddings_chunk_10.pkl\n",
      "Loading chunk 3/68: /Users/diegolemos/Masters/Theses/code/data/processed/embeddings/embeddings_chunk_11.pkl\n",
      "Loading chunk 4/68: /Users/diegolemos/Masters/Theses/code/data/processed/embeddings/embeddings_chunk_12.pkl\n",
      "Loading chunk 5/68: /Users/diegolemos/Masters/Theses/code/data/processed/embeddings/embeddings_chunk_13.pkl\n",
      "Loading chunk 6/68: /Users/diegolemos/Masters/Theses/code/data/processed/embeddings/embeddings_chunk_14.pkl\n",
      "Loading chunk 7/68: /Users/diegolemos/Masters/Theses/code/data/processed/embeddings/embeddings_chunk_15.pkl\n",
      "Loading chunk 8/68: /Users/diegolemos/Masters/Theses/code/data/processed/embeddings/embeddings_chunk_16.pkl\n",
      "Loading chunk 9/68: /Users/diegolemos/Masters/Theses/code/data/processed/embeddings/embeddings_chunk_17.pkl\n",
      "Loading chunk 10/68: /Users/diegolemos/Masters/Theses/code/data/processed/embeddings/embeddings_chunk_18.pkl\n",
      "Loading chunk 11/68: /Users/diegolemos/Masters/Theses/code/data/processed/embeddings/embeddings_chunk_19.pkl\n",
      "Loading chunk 12/68: /Users/diegolemos/Masters/Theses/code/data/processed/embeddings/embeddings_chunk_2.pkl\n",
      "Loading chunk 13/68: /Users/diegolemos/Masters/Theses/code/data/processed/embeddings/embeddings_chunk_20.pkl\n",
      "Loading chunk 14/68: /Users/diegolemos/Masters/Theses/code/data/processed/embeddings/embeddings_chunk_21.pkl\n",
      "Loading chunk 15/68: /Users/diegolemos/Masters/Theses/code/data/processed/embeddings/embeddings_chunk_22.pkl\n",
      "Loading chunk 16/68: /Users/diegolemos/Masters/Theses/code/data/processed/embeddings/embeddings_chunk_23.pkl\n",
      "Loading chunk 17/68: /Users/diegolemos/Masters/Theses/code/data/processed/embeddings/embeddings_chunk_24.pkl\n",
      "Loading chunk 18/68: /Users/diegolemos/Masters/Theses/code/data/processed/embeddings/embeddings_chunk_25.pkl\n",
      "Loading chunk 19/68: /Users/diegolemos/Masters/Theses/code/data/processed/embeddings/embeddings_chunk_26.pkl\n",
      "Loading chunk 20/68: /Users/diegolemos/Masters/Theses/code/data/processed/embeddings/embeddings_chunk_27.pkl\n",
      "Loading chunk 21/68: /Users/diegolemos/Masters/Theses/code/data/processed/embeddings/embeddings_chunk_28.pkl\n",
      "Loading chunk 22/68: /Users/diegolemos/Masters/Theses/code/data/processed/embeddings/embeddings_chunk_29.pkl\n",
      "Loading chunk 23/68: /Users/diegolemos/Masters/Theses/code/data/processed/embeddings/embeddings_chunk_3.pkl\n",
      "Loading chunk 24/68: /Users/diegolemos/Masters/Theses/code/data/processed/embeddings/embeddings_chunk_30.pkl\n",
      "Loading chunk 25/68: /Users/diegolemos/Masters/Theses/code/data/processed/embeddings/embeddings_chunk_31.pkl\n",
      "Loading chunk 26/68: /Users/diegolemos/Masters/Theses/code/data/processed/embeddings/embeddings_chunk_32.pkl\n",
      "Loading chunk 27/68: /Users/diegolemos/Masters/Theses/code/data/processed/embeddings/embeddings_chunk_33.pkl\n",
      "Loading chunk 28/68: /Users/diegolemos/Masters/Theses/code/data/processed/embeddings/embeddings_chunk_34.pkl\n",
      "Loading chunk 29/68: /Users/diegolemos/Masters/Theses/code/data/processed/embeddings/embeddings_chunk_35.pkl\n",
      "Loading chunk 30/68: /Users/diegolemos/Masters/Theses/code/data/processed/embeddings/embeddings_chunk_36.pkl\n",
      "Loading chunk 31/68: /Users/diegolemos/Masters/Theses/code/data/processed/embeddings/embeddings_chunk_37.pkl\n",
      "Loading chunk 32/68: /Users/diegolemos/Masters/Theses/code/data/processed/embeddings/embeddings_chunk_38.pkl\n",
      "Loading chunk 33/68: /Users/diegolemos/Masters/Theses/code/data/processed/embeddings/embeddings_chunk_39.pkl\n",
      "Loading chunk 34/68: /Users/diegolemos/Masters/Theses/code/data/processed/embeddings/embeddings_chunk_4.pkl\n",
      "Loading chunk 35/68: /Users/diegolemos/Masters/Theses/code/data/processed/embeddings/embeddings_chunk_40.pkl\n",
      "Loading chunk 36/68: /Users/diegolemos/Masters/Theses/code/data/processed/embeddings/embeddings_chunk_41.pkl\n",
      "Loading chunk 37/68: /Users/diegolemos/Masters/Theses/code/data/processed/embeddings/embeddings_chunk_42.pkl\n",
      "Loading chunk 38/68: /Users/diegolemos/Masters/Theses/code/data/processed/embeddings/embeddings_chunk_43.pkl\n",
      "Loading chunk 39/68: /Users/diegolemos/Masters/Theses/code/data/processed/embeddings/embeddings_chunk_44.pkl\n",
      "Loading chunk 40/68: /Users/diegolemos/Masters/Theses/code/data/processed/embeddings/embeddings_chunk_45.pkl\n",
      "Loading chunk 41/68: /Users/diegolemos/Masters/Theses/code/data/processed/embeddings/embeddings_chunk_46.pkl\n",
      "Loading chunk 42/68: /Users/diegolemos/Masters/Theses/code/data/processed/embeddings/embeddings_chunk_47.pkl\n",
      "Loading chunk 43/68: /Users/diegolemos/Masters/Theses/code/data/processed/embeddings/embeddings_chunk_48.pkl\n",
      "Loading chunk 44/68: /Users/diegolemos/Masters/Theses/code/data/processed/embeddings/embeddings_chunk_49.pkl\n",
      "Loading chunk 45/68: /Users/diegolemos/Masters/Theses/code/data/processed/embeddings/embeddings_chunk_5.pkl\n",
      "Loading chunk 46/68: /Users/diegolemos/Masters/Theses/code/data/processed/embeddings/embeddings_chunk_50.pkl\n",
      "Loading chunk 47/68: /Users/diegolemos/Masters/Theses/code/data/processed/embeddings/embeddings_chunk_51.pkl\n",
      "Loading chunk 48/68: /Users/diegolemos/Masters/Theses/code/data/processed/embeddings/embeddings_chunk_52.pkl\n",
      "Loading chunk 49/68: /Users/diegolemos/Masters/Theses/code/data/processed/embeddings/embeddings_chunk_53.pkl\n",
      "Loading chunk 50/68: /Users/diegolemos/Masters/Theses/code/data/processed/embeddings/embeddings_chunk_54.pkl\n",
      "Loading chunk 51/68: /Users/diegolemos/Masters/Theses/code/data/processed/embeddings/embeddings_chunk_55.pkl\n",
      "Loading chunk 52/68: /Users/diegolemos/Masters/Theses/code/data/processed/embeddings/embeddings_chunk_56.pkl\n",
      "Loading chunk 53/68: /Users/diegolemos/Masters/Theses/code/data/processed/embeddings/embeddings_chunk_57.pkl\n",
      "Loading chunk 54/68: /Users/diegolemos/Masters/Theses/code/data/processed/embeddings/embeddings_chunk_58.pkl\n",
      "Loading chunk 55/68: /Users/diegolemos/Masters/Theses/code/data/processed/embeddings/embeddings_chunk_59.pkl\n",
      "Loading chunk 56/68: /Users/diegolemos/Masters/Theses/code/data/processed/embeddings/embeddings_chunk_6.pkl\n",
      "Loading chunk 57/68: /Users/diegolemos/Masters/Theses/code/data/processed/embeddings/embeddings_chunk_60.pkl\n",
      "Loading chunk 58/68: /Users/diegolemos/Masters/Theses/code/data/processed/embeddings/embeddings_chunk_61.pkl\n",
      "Loading chunk 59/68: /Users/diegolemos/Masters/Theses/code/data/processed/embeddings/embeddings_chunk_62.pkl\n",
      "Loading chunk 60/68: /Users/diegolemos/Masters/Theses/code/data/processed/embeddings/embeddings_chunk_63.pkl\n",
      "Loading chunk 61/68: /Users/diegolemos/Masters/Theses/code/data/processed/embeddings/embeddings_chunk_64.pkl\n",
      "Loading chunk 62/68: /Users/diegolemos/Masters/Theses/code/data/processed/embeddings/embeddings_chunk_65.pkl\n",
      "Loading chunk 63/68: /Users/diegolemos/Masters/Theses/code/data/processed/embeddings/embeddings_chunk_66.pkl\n",
      "Loading chunk 64/68: /Users/diegolemos/Masters/Theses/code/data/processed/embeddings/embeddings_chunk_67.pkl\n",
      "Loading chunk 65/68: /Users/diegolemos/Masters/Theses/code/data/processed/embeddings/embeddings_chunk_68.pkl\n",
      "Loading chunk 66/68: /Users/diegolemos/Masters/Theses/code/data/processed/embeddings/embeddings_chunk_7.pkl\n",
      "Loading chunk 67/68: /Users/diegolemos/Masters/Theses/code/data/processed/embeddings/embeddings_chunk_8.pkl\n",
      "Loading chunk 68/68: /Users/diegolemos/Masters/Theses/code/data/processed/embeddings/embeddings_chunk_9.pkl\n",
      "\n",
      " All chunks loaded. Final shape: (1345727, 7)\n"
     ]
    }
   ],
   "source": [
    "# Loading all embedding Chunks\n",
    "embeddings_folder = '/Users/diegolemos/Masters/Theses/code/data/processed/embeddings'\n",
    "\n",
    "# Getting list of chunk files in order\n",
    "chunk_files = sorted([\n",
    "    os.path.join(embeddings_folder, f)\n",
    "    for f in os.listdir(embeddings_folder)\n",
    "    if f.startswith('embeddings_chunk_') and f.endswith('.pkl')\n",
    "])\n",
    "\n",
    "# Loading all chunks\n",
    "embedding_chunks = []\n",
    "for idx, file in enumerate(chunk_files, 1):\n",
    "    print(f'Loading chunk {idx}/{len(chunk_files)}: {file}')\n",
    "    chunk = pd.read_pickle(file)\n",
    "    embedding_chunks.append(chunk)\n",
    "\n",
    "# Combining all into one big DataFrame\n",
    "roberta_embeddings_df = pd.concat(embedding_chunks, ignore_index=True)\n",
    "print(f\"\\n All chunks loaded. Final shape: {roberta_embeddings_df.shape}\")"
   ]
  },
  {
   "cell_type": "code",
   "execution_count": 10,
   "id": "a91c8805",
   "metadata": {},
   "outputs": [
    {
     "name": "stdout",
     "output_type": "stream",
     "text": [
      "Final labels loaded: (1345727, 6)\n"
     ]
    }
   ],
   "source": [
    "# Loading the file that contains the clean_text and final_sentiment\n",
    "final_labels_path = '/Users/diegolemos/Masters/Theses/code/data/processed/customer_data_final.pkl'\n",
    "\n",
    "final_labels_df = pd.read_pickle(final_labels_path)\n",
    "final_labels_df['clean_text'] = final_labels_df['clean_text'].astype(str)\n",
    "\n",
    "print(f\"Final labels loaded: {final_labels_df.shape}\")\n"
   ]
  },
  {
   "cell_type": "code",
   "execution_count": 11,
   "id": "074fddad",
   "metadata": {},
   "outputs": [
    {
     "name": "stdout",
     "output_type": "stream",
     "text": [
      "Final dataset for training: (1345727, 7)\n"
     ]
    },
    {
     "data": {
      "text/html": [
       "<div>\n",
       "<style scoped>\n",
       "    .dataframe tbody tr th:only-of-type {\n",
       "        vertical-align: middle;\n",
       "    }\n",
       "\n",
       "    .dataframe tbody tr th {\n",
       "        vertical-align: top;\n",
       "    }\n",
       "\n",
       "    .dataframe thead th {\n",
       "        text-align: right;\n",
       "    }\n",
       "</style>\n",
       "<table border=\"1\" class=\"dataframe\">\n",
       "  <thead>\n",
       "    <tr style=\"text-align: right;\">\n",
       "      <th></th>\n",
       "      <th>clean_text</th>\n",
       "      <th>vader_sentiment</th>\n",
       "      <th>distilbert_sentiment</th>\n",
       "      <th>roberta_sentiment</th>\n",
       "      <th>agreement</th>\n",
       "      <th>embedding</th>\n",
       "      <th>final_sentiment</th>\n",
       "    </tr>\n",
       "  </thead>\n",
       "  <tbody>\n",
       "    <tr>\n",
       "      <th>0</th>\n",
       "      <td>and how do you propose we do that</td>\n",
       "      <td>neutral</td>\n",
       "      <td>positive</td>\n",
       "      <td>neutral</td>\n",
       "      <td>False</td>\n",
       "      <td>[-0.35439885, -0.23273325, 0.016789742, -0.558...</td>\n",
       "      <td>neutral</td>\n",
       "    </tr>\n",
       "    <tr>\n",
       "      <th>1</th>\n",
       "      <td>i have sent several private messages and no on...</td>\n",
       "      <td>negative</td>\n",
       "      <td>negative</td>\n",
       "      <td>negative</td>\n",
       "      <td>True</td>\n",
       "      <td>[-0.39328283, -0.39745688, 0.17642555, -1.0906...</td>\n",
       "      <td>negative</td>\n",
       "    </tr>\n",
       "    <tr>\n",
       "      <th>2</th>\n",
       "      <td>is the worst customer service</td>\n",
       "      <td>negative</td>\n",
       "      <td>negative</td>\n",
       "      <td>negative</td>\n",
       "      <td>True</td>\n",
       "      <td>[-0.0460682, -0.1983459, -0.061124038, -0.8759...</td>\n",
       "      <td>negative</td>\n",
       "    </tr>\n",
       "    <tr>\n",
       "      <th>3</th>\n",
       "      <td>you gonna magically change your connectivity f...</td>\n",
       "      <td>negative</td>\n",
       "      <td>positive</td>\n",
       "      <td>neutral</td>\n",
       "      <td>False</td>\n",
       "      <td>[-0.6767313, -0.32149655, 0.029280744, -0.7963...</td>\n",
       "      <td>neutral</td>\n",
       "    </tr>\n",
       "    <tr>\n",
       "      <th>4</th>\n",
       "      <td>since i signed up with you....since day 1</td>\n",
       "      <td>neutral</td>\n",
       "      <td>positive</td>\n",
       "      <td>neutral</td>\n",
       "      <td>False</td>\n",
       "      <td>[-0.33590388, -0.30803612, -0.38103887, -0.617...</td>\n",
       "      <td>neutral</td>\n",
       "    </tr>\n",
       "  </tbody>\n",
       "</table>\n",
       "</div>"
      ],
      "text/plain": [
       "                                          clean_text vader_sentiment  \\\n",
       "0                  and how do you propose we do that         neutral   \n",
       "1  i have sent several private messages and no on...        negative   \n",
       "2                      is the worst customer service        negative   \n",
       "3  you gonna magically change your connectivity f...        negative   \n",
       "4          since i signed up with you....since day 1         neutral   \n",
       "\n",
       "  distilbert_sentiment roberta_sentiment  agreement  \\\n",
       "0             positive           neutral      False   \n",
       "1             negative          negative       True   \n",
       "2             negative          negative       True   \n",
       "3             positive           neutral      False   \n",
       "4             positive           neutral      False   \n",
       "\n",
       "                                           embedding final_sentiment  \n",
       "0  [-0.35439885, -0.23273325, 0.016789742, -0.558...         neutral  \n",
       "1  [-0.39328283, -0.39745688, 0.17642555, -1.0906...        negative  \n",
       "2  [-0.0460682, -0.1983459, -0.061124038, -0.8759...        negative  \n",
       "3  [-0.6767313, -0.32149655, 0.029280744, -0.7963...         neutral  \n",
       "4  [-0.33590388, -0.30803612, -0.38103887, -0.617...         neutral  "
      ]
     },
     "execution_count": 11,
     "metadata": {},
     "output_type": "execute_result"
    }
   ],
   "source": [
    "# Checking if files have the same size\n",
    "assert len(roberta_embeddings_df) == len(final_labels_df), \"Row count mismatch\"\n",
    "\n",
    "# Dropping duplicated if already exists in roberta_embeddings_df\n",
    "if 'final_sentiment' in roberta_embeddings_df.columns:\n",
    "    roberta_embeddings_df = roberta_embeddings_df.drop(columns=['final_sentiment'])\n",
    "\n",
    "# Merging side by side by index\n",
    "model_df = pd.concat([roberta_embeddings_df, final_labels_df['final_sentiment']], axis=1)\n",
    "\n",
    "print(f\"Final dataset for training: {model_df.shape}\")\n",
    "model_df.head()"
   ]
  },
  {
   "cell_type": "code",
   "execution_count": 12,
   "id": "a32b53b9",
   "metadata": {},
   "outputs": [
    {
     "name": "stdout",
     "output_type": "stream",
     "text": [
      "Saved final_model_dataset.pkl\n"
     ]
    }
   ],
   "source": [
    "# Saving final dataset for model training\n",
    "model_df.to_pickle('/Users/diegolemos/Masters/Theses/code/data/processed/final_model_dataset.pkl')\n",
    "print(\"Saved final_model_dataset.pkl\")"
   ]
  },
  {
   "cell_type": "markdown",
   "id": "1e1711a4",
   "metadata": {},
   "source": [
    "### PCA (Principal Component Analysis)"
   ]
  },
  {
   "cell_type": "code",
   "execution_count": 6,
   "id": "03789c70",
   "metadata": {},
   "outputs": [
    {
     "name": "stdout",
     "output_type": "stream",
     "text": [
      "Found 68 chunks.\n"
     ]
    }
   ],
   "source": [
    "# Loading saved dataset in chunks\n",
    "embedding_folder = '/Users/diegolemos/Masters/Theses/code/data/processed/embeddings'\n",
    "chunk_files = sorted([os.path.join(embedding_folder, f) \n",
    "                      for f in os.listdir(embedding_folder) if f.endswith('.pkl')])\n",
    "\n",
    "print(f\"Found {len(chunk_files)} chunks.\")\n"
   ]
  },
  {
   "cell_type": "code",
   "execution_count": 14,
   "id": "c47e088c",
   "metadata": {},
   "outputs": [
    {
     "name": "stdout",
     "output_type": "stream",
     "text": [
      "Fitting on chunk 1/68: /Users/diegolemos/Masters/Theses/code/data/processed/embeddings/embeddings_chunk_1.pkl\n",
      "Fitting on chunk 2/68: /Users/diegolemos/Masters/Theses/code/data/processed/embeddings/embeddings_chunk_10.pkl\n",
      "Fitting on chunk 3/68: /Users/diegolemos/Masters/Theses/code/data/processed/embeddings/embeddings_chunk_11.pkl\n",
      "Fitting on chunk 4/68: /Users/diegolemos/Masters/Theses/code/data/processed/embeddings/embeddings_chunk_12.pkl\n",
      "Fitting on chunk 5/68: /Users/diegolemos/Masters/Theses/code/data/processed/embeddings/embeddings_chunk_13.pkl\n",
      "Fitting on chunk 6/68: /Users/diegolemos/Masters/Theses/code/data/processed/embeddings/embeddings_chunk_14.pkl\n",
      "Fitting on chunk 7/68: /Users/diegolemos/Masters/Theses/code/data/processed/embeddings/embeddings_chunk_15.pkl\n",
      "Fitting on chunk 8/68: /Users/diegolemos/Masters/Theses/code/data/processed/embeddings/embeddings_chunk_16.pkl\n",
      "Fitting on chunk 9/68: /Users/diegolemos/Masters/Theses/code/data/processed/embeddings/embeddings_chunk_17.pkl\n",
      "Fitting on chunk 10/68: /Users/diegolemos/Masters/Theses/code/data/processed/embeddings/embeddings_chunk_18.pkl\n",
      "Fitting on chunk 11/68: /Users/diegolemos/Masters/Theses/code/data/processed/embeddings/embeddings_chunk_19.pkl\n",
      "Fitting on chunk 12/68: /Users/diegolemos/Masters/Theses/code/data/processed/embeddings/embeddings_chunk_2.pkl\n",
      "Fitting on chunk 13/68: /Users/diegolemos/Masters/Theses/code/data/processed/embeddings/embeddings_chunk_20.pkl\n",
      "Fitting on chunk 14/68: /Users/diegolemos/Masters/Theses/code/data/processed/embeddings/embeddings_chunk_21.pkl\n",
      "Fitting on chunk 15/68: /Users/diegolemos/Masters/Theses/code/data/processed/embeddings/embeddings_chunk_22.pkl\n",
      "Fitting on chunk 16/68: /Users/diegolemos/Masters/Theses/code/data/processed/embeddings/embeddings_chunk_23.pkl\n",
      "Fitting on chunk 17/68: /Users/diegolemos/Masters/Theses/code/data/processed/embeddings/embeddings_chunk_24.pkl\n",
      "Fitting on chunk 18/68: /Users/diegolemos/Masters/Theses/code/data/processed/embeddings/embeddings_chunk_25.pkl\n",
      "Fitting on chunk 19/68: /Users/diegolemos/Masters/Theses/code/data/processed/embeddings/embeddings_chunk_26.pkl\n",
      "Fitting on chunk 20/68: /Users/diegolemos/Masters/Theses/code/data/processed/embeddings/embeddings_chunk_27.pkl\n",
      "Fitting on chunk 21/68: /Users/diegolemos/Masters/Theses/code/data/processed/embeddings/embeddings_chunk_28.pkl\n",
      "Fitting on chunk 22/68: /Users/diegolemos/Masters/Theses/code/data/processed/embeddings/embeddings_chunk_29.pkl\n",
      "Fitting on chunk 23/68: /Users/diegolemos/Masters/Theses/code/data/processed/embeddings/embeddings_chunk_3.pkl\n",
      "Fitting on chunk 24/68: /Users/diegolemos/Masters/Theses/code/data/processed/embeddings/embeddings_chunk_30.pkl\n",
      "Fitting on chunk 25/68: /Users/diegolemos/Masters/Theses/code/data/processed/embeddings/embeddings_chunk_31.pkl\n",
      "Fitting on chunk 26/68: /Users/diegolemos/Masters/Theses/code/data/processed/embeddings/embeddings_chunk_32.pkl\n",
      "Fitting on chunk 27/68: /Users/diegolemos/Masters/Theses/code/data/processed/embeddings/embeddings_chunk_33.pkl\n",
      "Fitting on chunk 28/68: /Users/diegolemos/Masters/Theses/code/data/processed/embeddings/embeddings_chunk_34.pkl\n",
      "Fitting on chunk 29/68: /Users/diegolemos/Masters/Theses/code/data/processed/embeddings/embeddings_chunk_35.pkl\n",
      "Fitting on chunk 30/68: /Users/diegolemos/Masters/Theses/code/data/processed/embeddings/embeddings_chunk_36.pkl\n",
      "Fitting on chunk 31/68: /Users/diegolemos/Masters/Theses/code/data/processed/embeddings/embeddings_chunk_37.pkl\n",
      "Fitting on chunk 32/68: /Users/diegolemos/Masters/Theses/code/data/processed/embeddings/embeddings_chunk_38.pkl\n",
      "Fitting on chunk 33/68: /Users/diegolemos/Masters/Theses/code/data/processed/embeddings/embeddings_chunk_39.pkl\n",
      "Fitting on chunk 34/68: /Users/diegolemos/Masters/Theses/code/data/processed/embeddings/embeddings_chunk_4.pkl\n",
      "Fitting on chunk 35/68: /Users/diegolemos/Masters/Theses/code/data/processed/embeddings/embeddings_chunk_40.pkl\n",
      "Fitting on chunk 36/68: /Users/diegolemos/Masters/Theses/code/data/processed/embeddings/embeddings_chunk_41.pkl\n",
      "Fitting on chunk 37/68: /Users/diegolemos/Masters/Theses/code/data/processed/embeddings/embeddings_chunk_42.pkl\n",
      "Fitting on chunk 38/68: /Users/diegolemos/Masters/Theses/code/data/processed/embeddings/embeddings_chunk_43.pkl\n",
      "Fitting on chunk 39/68: /Users/diegolemos/Masters/Theses/code/data/processed/embeddings/embeddings_chunk_44.pkl\n",
      "Fitting on chunk 40/68: /Users/diegolemos/Masters/Theses/code/data/processed/embeddings/embeddings_chunk_45.pkl\n",
      "Fitting on chunk 41/68: /Users/diegolemos/Masters/Theses/code/data/processed/embeddings/embeddings_chunk_46.pkl\n",
      "Fitting on chunk 42/68: /Users/diegolemos/Masters/Theses/code/data/processed/embeddings/embeddings_chunk_47.pkl\n",
      "Fitting on chunk 43/68: /Users/diegolemos/Masters/Theses/code/data/processed/embeddings/embeddings_chunk_48.pkl\n",
      "Fitting on chunk 44/68: /Users/diegolemos/Masters/Theses/code/data/processed/embeddings/embeddings_chunk_49.pkl\n",
      "Fitting on chunk 45/68: /Users/diegolemos/Masters/Theses/code/data/processed/embeddings/embeddings_chunk_5.pkl\n",
      "Fitting on chunk 46/68: /Users/diegolemos/Masters/Theses/code/data/processed/embeddings/embeddings_chunk_50.pkl\n",
      "Fitting on chunk 47/68: /Users/diegolemos/Masters/Theses/code/data/processed/embeddings/embeddings_chunk_51.pkl\n",
      "Fitting on chunk 48/68: /Users/diegolemos/Masters/Theses/code/data/processed/embeddings/embeddings_chunk_52.pkl\n",
      "Fitting on chunk 49/68: /Users/diegolemos/Masters/Theses/code/data/processed/embeddings/embeddings_chunk_53.pkl\n",
      "Fitting on chunk 50/68: /Users/diegolemos/Masters/Theses/code/data/processed/embeddings/embeddings_chunk_54.pkl\n",
      "Fitting on chunk 51/68: /Users/diegolemos/Masters/Theses/code/data/processed/embeddings/embeddings_chunk_55.pkl\n",
      "Fitting on chunk 52/68: /Users/diegolemos/Masters/Theses/code/data/processed/embeddings/embeddings_chunk_56.pkl\n",
      "Fitting on chunk 53/68: /Users/diegolemos/Masters/Theses/code/data/processed/embeddings/embeddings_chunk_57.pkl\n",
      "Fitting on chunk 54/68: /Users/diegolemos/Masters/Theses/code/data/processed/embeddings/embeddings_chunk_58.pkl\n",
      "Fitting on chunk 55/68: /Users/diegolemos/Masters/Theses/code/data/processed/embeddings/embeddings_chunk_59.pkl\n",
      "Fitting on chunk 56/68: /Users/diegolemos/Masters/Theses/code/data/processed/embeddings/embeddings_chunk_6.pkl\n",
      "Fitting on chunk 57/68: /Users/diegolemos/Masters/Theses/code/data/processed/embeddings/embeddings_chunk_60.pkl\n",
      "Fitting on chunk 58/68: /Users/diegolemos/Masters/Theses/code/data/processed/embeddings/embeddings_chunk_61.pkl\n",
      "Fitting on chunk 59/68: /Users/diegolemos/Masters/Theses/code/data/processed/embeddings/embeddings_chunk_62.pkl\n",
      "Fitting on chunk 60/68: /Users/diegolemos/Masters/Theses/code/data/processed/embeddings/embeddings_chunk_63.pkl\n",
      "Fitting on chunk 61/68: /Users/diegolemos/Masters/Theses/code/data/processed/embeddings/embeddings_chunk_64.pkl\n",
      "Fitting on chunk 62/68: /Users/diegolemos/Masters/Theses/code/data/processed/embeddings/embeddings_chunk_65.pkl\n",
      "Fitting on chunk 63/68: /Users/diegolemos/Masters/Theses/code/data/processed/embeddings/embeddings_chunk_66.pkl\n",
      "Fitting on chunk 64/68: /Users/diegolemos/Masters/Theses/code/data/processed/embeddings/embeddings_chunk_67.pkl\n",
      "Fitting on chunk 65/68: /Users/diegolemos/Masters/Theses/code/data/processed/embeddings/embeddings_chunk_68.pkl\n",
      "Fitting on chunk 66/68: /Users/diegolemos/Masters/Theses/code/data/processed/embeddings/embeddings_chunk_7.pkl\n",
      "Fitting on chunk 67/68: /Users/diegolemos/Masters/Theses/code/data/processed/embeddings/embeddings_chunk_8.pkl\n",
      "Fitting on chunk 68/68: /Users/diegolemos/Masters/Theses/code/data/processed/embeddings/embeddings_chunk_9.pkl\n"
     ]
    }
   ],
   "source": [
    "# Initializing PCA\n",
    "n_components = 100\n",
    "batch_size = 10000\n",
    "\n",
    "ipca = IncrementalPCA(n_components=n_components)\n",
    "\n",
    "for i, path in enumerate(chunk_files):\n",
    "    print(f\"Fitting on chunk {i+1}/{len(chunk_files)}: {path}\")\n",
    "    chunk = pd.read_pickle(path)\n",
    "\n",
    "    # Convert to matrix\n",
    "    embeddings = np.vstack(chunk['embedding'].values)\n",
    "\n",
    "    # Split into smaller batches\n",
    "    for j in range(0, len(embeddings), batch_size):\n",
    "        batch = embeddings[j:j+batch_size]\n",
    "        ipca.partial_fit(batch)\n"
   ]
  },
  {
   "cell_type": "code",
   "execution_count": 15,
   "id": "fd40cdbc",
   "metadata": {},
   "outputs": [
    {
     "name": "stdout",
     "output_type": "stream",
     "text": [
      "Transforming chunk 1/68: /Users/diegolemos/Masters/Theses/code/data/processed/embeddings/embeddings_chunk_1.pkl\n",
      "Transforming chunk 2/68: /Users/diegolemos/Masters/Theses/code/data/processed/embeddings/embeddings_chunk_10.pkl\n",
      "Transforming chunk 3/68: /Users/diegolemos/Masters/Theses/code/data/processed/embeddings/embeddings_chunk_11.pkl\n",
      "Transforming chunk 4/68: /Users/diegolemos/Masters/Theses/code/data/processed/embeddings/embeddings_chunk_12.pkl\n",
      "Transforming chunk 5/68: /Users/diegolemos/Masters/Theses/code/data/processed/embeddings/embeddings_chunk_13.pkl\n",
      "Transforming chunk 6/68: /Users/diegolemos/Masters/Theses/code/data/processed/embeddings/embeddings_chunk_14.pkl\n",
      "Transforming chunk 7/68: /Users/diegolemos/Masters/Theses/code/data/processed/embeddings/embeddings_chunk_15.pkl\n",
      "Transforming chunk 8/68: /Users/diegolemos/Masters/Theses/code/data/processed/embeddings/embeddings_chunk_16.pkl\n",
      "Transforming chunk 9/68: /Users/diegolemos/Masters/Theses/code/data/processed/embeddings/embeddings_chunk_17.pkl\n",
      "Transforming chunk 10/68: /Users/diegolemos/Masters/Theses/code/data/processed/embeddings/embeddings_chunk_18.pkl\n",
      "Transforming chunk 11/68: /Users/diegolemos/Masters/Theses/code/data/processed/embeddings/embeddings_chunk_19.pkl\n",
      "Transforming chunk 12/68: /Users/diegolemos/Masters/Theses/code/data/processed/embeddings/embeddings_chunk_2.pkl\n",
      "Transforming chunk 13/68: /Users/diegolemos/Masters/Theses/code/data/processed/embeddings/embeddings_chunk_20.pkl\n",
      "Transforming chunk 14/68: /Users/diegolemos/Masters/Theses/code/data/processed/embeddings/embeddings_chunk_21.pkl\n",
      "Transforming chunk 15/68: /Users/diegolemos/Masters/Theses/code/data/processed/embeddings/embeddings_chunk_22.pkl\n",
      "Transforming chunk 16/68: /Users/diegolemos/Masters/Theses/code/data/processed/embeddings/embeddings_chunk_23.pkl\n",
      "Transforming chunk 17/68: /Users/diegolemos/Masters/Theses/code/data/processed/embeddings/embeddings_chunk_24.pkl\n",
      "Transforming chunk 18/68: /Users/diegolemos/Masters/Theses/code/data/processed/embeddings/embeddings_chunk_25.pkl\n",
      "Transforming chunk 19/68: /Users/diegolemos/Masters/Theses/code/data/processed/embeddings/embeddings_chunk_26.pkl\n",
      "Transforming chunk 20/68: /Users/diegolemos/Masters/Theses/code/data/processed/embeddings/embeddings_chunk_27.pkl\n",
      "Transforming chunk 21/68: /Users/diegolemos/Masters/Theses/code/data/processed/embeddings/embeddings_chunk_28.pkl\n",
      "Transforming chunk 22/68: /Users/diegolemos/Masters/Theses/code/data/processed/embeddings/embeddings_chunk_29.pkl\n",
      "Transforming chunk 23/68: /Users/diegolemos/Masters/Theses/code/data/processed/embeddings/embeddings_chunk_3.pkl\n",
      "Transforming chunk 24/68: /Users/diegolemos/Masters/Theses/code/data/processed/embeddings/embeddings_chunk_30.pkl\n",
      "Transforming chunk 25/68: /Users/diegolemos/Masters/Theses/code/data/processed/embeddings/embeddings_chunk_31.pkl\n",
      "Transforming chunk 26/68: /Users/diegolemos/Masters/Theses/code/data/processed/embeddings/embeddings_chunk_32.pkl\n",
      "Transforming chunk 27/68: /Users/diegolemos/Masters/Theses/code/data/processed/embeddings/embeddings_chunk_33.pkl\n",
      "Transforming chunk 28/68: /Users/diegolemos/Masters/Theses/code/data/processed/embeddings/embeddings_chunk_34.pkl\n",
      "Transforming chunk 29/68: /Users/diegolemos/Masters/Theses/code/data/processed/embeddings/embeddings_chunk_35.pkl\n",
      "Transforming chunk 30/68: /Users/diegolemos/Masters/Theses/code/data/processed/embeddings/embeddings_chunk_36.pkl\n",
      "Transforming chunk 31/68: /Users/diegolemos/Masters/Theses/code/data/processed/embeddings/embeddings_chunk_37.pkl\n",
      "Transforming chunk 32/68: /Users/diegolemos/Masters/Theses/code/data/processed/embeddings/embeddings_chunk_38.pkl\n",
      "Transforming chunk 33/68: /Users/diegolemos/Masters/Theses/code/data/processed/embeddings/embeddings_chunk_39.pkl\n",
      "Transforming chunk 34/68: /Users/diegolemos/Masters/Theses/code/data/processed/embeddings/embeddings_chunk_4.pkl\n",
      "Transforming chunk 35/68: /Users/diegolemos/Masters/Theses/code/data/processed/embeddings/embeddings_chunk_40.pkl\n",
      "Transforming chunk 36/68: /Users/diegolemos/Masters/Theses/code/data/processed/embeddings/embeddings_chunk_41.pkl\n",
      "Transforming chunk 37/68: /Users/diegolemos/Masters/Theses/code/data/processed/embeddings/embeddings_chunk_42.pkl\n",
      "Transforming chunk 38/68: /Users/diegolemos/Masters/Theses/code/data/processed/embeddings/embeddings_chunk_43.pkl\n",
      "Transforming chunk 39/68: /Users/diegolemos/Masters/Theses/code/data/processed/embeddings/embeddings_chunk_44.pkl\n",
      "Transforming chunk 40/68: /Users/diegolemos/Masters/Theses/code/data/processed/embeddings/embeddings_chunk_45.pkl\n",
      "Transforming chunk 41/68: /Users/diegolemos/Masters/Theses/code/data/processed/embeddings/embeddings_chunk_46.pkl\n",
      "Transforming chunk 42/68: /Users/diegolemos/Masters/Theses/code/data/processed/embeddings/embeddings_chunk_47.pkl\n",
      "Transforming chunk 43/68: /Users/diegolemos/Masters/Theses/code/data/processed/embeddings/embeddings_chunk_48.pkl\n",
      "Transforming chunk 44/68: /Users/diegolemos/Masters/Theses/code/data/processed/embeddings/embeddings_chunk_49.pkl\n",
      "Transforming chunk 45/68: /Users/diegolemos/Masters/Theses/code/data/processed/embeddings/embeddings_chunk_5.pkl\n",
      "Transforming chunk 46/68: /Users/diegolemos/Masters/Theses/code/data/processed/embeddings/embeddings_chunk_50.pkl\n",
      "Transforming chunk 47/68: /Users/diegolemos/Masters/Theses/code/data/processed/embeddings/embeddings_chunk_51.pkl\n",
      "Transforming chunk 48/68: /Users/diegolemos/Masters/Theses/code/data/processed/embeddings/embeddings_chunk_52.pkl\n",
      "Transforming chunk 49/68: /Users/diegolemos/Masters/Theses/code/data/processed/embeddings/embeddings_chunk_53.pkl\n",
      "Transforming chunk 50/68: /Users/diegolemos/Masters/Theses/code/data/processed/embeddings/embeddings_chunk_54.pkl\n",
      "Transforming chunk 51/68: /Users/diegolemos/Masters/Theses/code/data/processed/embeddings/embeddings_chunk_55.pkl\n",
      "Transforming chunk 52/68: /Users/diegolemos/Masters/Theses/code/data/processed/embeddings/embeddings_chunk_56.pkl\n",
      "Transforming chunk 53/68: /Users/diegolemos/Masters/Theses/code/data/processed/embeddings/embeddings_chunk_57.pkl\n",
      "Transforming chunk 54/68: /Users/diegolemos/Masters/Theses/code/data/processed/embeddings/embeddings_chunk_58.pkl\n",
      "Transforming chunk 55/68: /Users/diegolemos/Masters/Theses/code/data/processed/embeddings/embeddings_chunk_59.pkl\n",
      "Transforming chunk 56/68: /Users/diegolemos/Masters/Theses/code/data/processed/embeddings/embeddings_chunk_6.pkl\n",
      "Transforming chunk 57/68: /Users/diegolemos/Masters/Theses/code/data/processed/embeddings/embeddings_chunk_60.pkl\n",
      "Transforming chunk 58/68: /Users/diegolemos/Masters/Theses/code/data/processed/embeddings/embeddings_chunk_61.pkl\n",
      "Transforming chunk 59/68: /Users/diegolemos/Masters/Theses/code/data/processed/embeddings/embeddings_chunk_62.pkl\n",
      "Transforming chunk 60/68: /Users/diegolemos/Masters/Theses/code/data/processed/embeddings/embeddings_chunk_63.pkl\n",
      "Transforming chunk 61/68: /Users/diegolemos/Masters/Theses/code/data/processed/embeddings/embeddings_chunk_64.pkl\n",
      "Transforming chunk 62/68: /Users/diegolemos/Masters/Theses/code/data/processed/embeddings/embeddings_chunk_65.pkl\n",
      "Transforming chunk 63/68: /Users/diegolemos/Masters/Theses/code/data/processed/embeddings/embeddings_chunk_66.pkl\n",
      "Transforming chunk 64/68: /Users/diegolemos/Masters/Theses/code/data/processed/embeddings/embeddings_chunk_67.pkl\n",
      "Transforming chunk 65/68: /Users/diegolemos/Masters/Theses/code/data/processed/embeddings/embeddings_chunk_68.pkl\n",
      "Transforming chunk 66/68: /Users/diegolemos/Masters/Theses/code/data/processed/embeddings/embeddings_chunk_7.pkl\n",
      "Transforming chunk 67/68: /Users/diegolemos/Masters/Theses/code/data/processed/embeddings/embeddings_chunk_8.pkl\n",
      "Transforming chunk 68/68: /Users/diegolemos/Masters/Theses/code/data/processed/embeddings/embeddings_chunk_9.pkl\n"
     ]
    }
   ],
   "source": [
    "# Transforming and saving reduced embbedings\n",
    "output_folder = '/Users/diegolemos/Masters/Theses/code/data/processed/pca_embeddings_chunks/'\n",
    "os.makedirs(output_folder, exist_ok=True)\n",
    "\n",
    "for i, path in enumerate(chunk_files):\n",
    "    print(f\"Transforming chunk {i+1}/{len(chunk_files)}: {path}\")\n",
    "    chunk = pd.read_pickle(path)\n",
    "\n",
    "    embeddings = np.vstack(chunk['embedding'].values)\n",
    "    reduced = ipca.transform(embeddings)\n",
    "\n",
    "    # Saving\n",
    "    np.save(os.path.join(output_folder, f'pca_chunk_{i+1}.npy'), reduced)\n"
   ]
  },
  {
   "cell_type": "code",
   "execution_count": null,
   "id": "50786ef2",
   "metadata": {},
   "outputs": [],
   "source": []
  }
 ],
 "metadata": {
  "kernelspec": {
   "display_name": "sentiment_env",
   "language": "python",
   "name": "python3"
  },
  "language_info": {
   "codemirror_mode": {
    "name": "ipython",
    "version": 3
   },
   "file_extension": ".py",
   "mimetype": "text/x-python",
   "name": "python",
   "nbconvert_exporter": "python",
   "pygments_lexer": "ipython3",
   "version": "3.12.6"
  }
 },
 "nbformat": 4,
 "nbformat_minor": 5
}
