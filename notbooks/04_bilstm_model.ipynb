{
 "cells": [
  {
   "cell_type": "code",
   "execution_count": 23,
   "id": "f73c64cc",
   "metadata": {},
   "outputs": [],
   "source": [
    "# Imports\n",
    "import numpy as np\n",
    "import pandas as pd\n",
    "import tensorflow as tf\n",
    "from tensorflow.keras.preprocessing.text import Tokenizer\n",
    "from tensorflow.keras.preprocessing.sequence import pad_sequences\n",
    "from tensorflow.keras.models import Sequential\n",
    "from tensorflow.keras.layers import Embedding, Bidirectional, LSTM, Dense, Dropout\n",
    "from sklearn.model_selection import train_test_split\n",
    "from sklearn.preprocessing import LabelEncoder\n",
    "from sklearn.utils.class_weight import compute_class_weight\n",
    "from sklearn.metrics import classification_report, confusion_matrix, ConfusionMatrixDisplay\n",
    "import matplotlib.pyplot as plt\n",
    "import seaborn as sns\n",
    "import os\n",
    "import json"
   ]
  },
  {
   "cell_type": "code",
   "execution_count": null,
   "id": "d7ab608e",
   "metadata": {},
   "outputs": [
    {
     "data": {
      "text/html": [
       "<div>\n",
       "<style scoped>\n",
       "    .dataframe tbody tr th:only-of-type {\n",
       "        vertical-align: middle;\n",
       "    }\n",
       "\n",
       "    .dataframe tbody tr th {\n",
       "        vertical-align: top;\n",
       "    }\n",
       "\n",
       "    .dataframe thead th {\n",
       "        text-align: right;\n",
       "    }\n",
       "</style>\n",
       "<table border=\"1\" class=\"dataframe\">\n",
       "  <thead>\n",
       "    <tr style=\"text-align: right;\">\n",
       "      <th></th>\n",
       "      <th>clean_text</th>\n",
       "      <th>final_sentiment</th>\n",
       "    </tr>\n",
       "  </thead>\n",
       "  <tbody>\n",
       "    <tr>\n",
       "      <th>0</th>\n",
       "      <td>and how do you propose we do that</td>\n",
       "      <td>neutral</td>\n",
       "    </tr>\n",
       "    <tr>\n",
       "      <th>1</th>\n",
       "      <td>i have sent several private messages and no on...</td>\n",
       "      <td>negative</td>\n",
       "    </tr>\n",
       "    <tr>\n",
       "      <th>2</th>\n",
       "      <td>is the worst customer service</td>\n",
       "      <td>negative</td>\n",
       "    </tr>\n",
       "    <tr>\n",
       "      <th>3</th>\n",
       "      <td>you gonna magically change your connectivity f...</td>\n",
       "      <td>neutral</td>\n",
       "    </tr>\n",
       "    <tr>\n",
       "      <th>4</th>\n",
       "      <td>since i signed up with you....since day 1</td>\n",
       "      <td>neutral</td>\n",
       "    </tr>\n",
       "  </tbody>\n",
       "</table>\n",
       "</div>"
      ],
      "text/plain": [
       "                                          clean_text final_sentiment\n",
       "0                  and how do you propose we do that         neutral\n",
       "1  i have sent several private messages and no on...        negative\n",
       "2                      is the worst customer service        negative\n",
       "3  you gonna magically change your connectivity f...         neutral\n",
       "4          since i signed up with you....since day 1         neutral"
      ]
     },
     "execution_count": 4,
     "metadata": {},
     "output_type": "execute_result"
    }
   ],
   "source": [
    "#Loading final labeled dataset before embedding and PCA.\n",
    "data_path = '../data/processed/customer_data_final.pkl'\n",
    "df = pd.read_pickle(data_path)\n",
    "\n",
    "#Keepping only the needed columns\n",
    "df = df[['clean_text', 'final_sentiment']].dropna()\n",
    "\n",
    "#Checking dataset\n",
    "df.head()"
   ]
  },
  {
   "cell_type": "code",
   "execution_count": null,
   "id": "aa56e382",
   "metadata": {},
   "outputs": [
    {
     "name": "stdout",
     "output_type": "stream",
     "text": [
      "Classes: ['negative' 'neutral' 'positive']\n"
     ]
    }
   ],
   "source": [
    "#Encouding final sentiment\n",
    "label_encoder = LabelEncoder()\n",
    "df['label_encoded'] = label_encoder.fit_transform(df['final_sentiment'])\n",
    "\n",
    "#Checking encoded classes\n",
    "print(\"Classes:\", label_encoder.classes_)"
   ]
  },
  {
   "cell_type": "code",
   "execution_count": 25,
   "id": "f4ed9c11",
   "metadata": {},
   "outputs": [
    {
     "name": "stdout",
     "output_type": "stream",
     "text": [
      "Train size: 1076581\n",
      "Test size: 269146\n"
     ]
    }
   ],
   "source": [
    "#Train and test split 80/20\n",
    "X_train, X_test, y_train, y_test = train_test_split(\n",
    "    df['clean_text'], df['label_encoded'], test_size=0.2, random_state=42, stratify=df['label_encoded']\n",
    ")\n",
    "\n",
    "print(\"Train size:\", len(X_train))\n",
    "print(\"Test size:\", len(X_test))"
   ]
  },
  {
   "cell_type": "code",
   "execution_count": 26,
   "id": "b05bfb8d",
   "metadata": {},
   "outputs": [
    {
     "name": "stdout",
     "output_type": "stream",
     "text": [
      "Train size: 942008\n",
      "Test size: 403719\n"
     ]
    }
   ],
   "source": [
    "#Train and test split 70/30\n",
    "X_train, X_test, y_train, y_test = train_test_split(\n",
    "    df['clean_text'], df['label_encoded'], \n",
    "    test_size=0.3, random_state=42, stratify=df['label_encoded']\n",
    ")\n",
    "\n",
    "print(\"Train size:\", len(X_train))\n",
    "print(\"Test size:\", len(X_test))\n"
   ]
  },
  {
   "cell_type": "code",
   "execution_count": 32,
   "id": "ff84c9f6",
   "metadata": {},
   "outputs": [
    {
     "name": "stdout",
     "output_type": "stream",
     "text": [
      "Train size: 1009295\n",
      "Test size: 336432\n"
     ]
    }
   ],
   "source": [
    "#Train and test split 75/25 for BiLSTM\n",
    "X_train, X_test, y_train, y_test = train_test_split(\n",
    "    df['clean_text'], df['label_encoded'],\n",
    "    test_size=0.25, random_state=42, stratify=df['label_encoded']\n",
    ")\n",
    "\n",
    "print(\"Train size:\", len(X_train))\n",
    "print(\"Test size:\", len(X_test))"
   ]
  },
  {
   "cell_type": "code",
   "execution_count": null,
   "id": "0837dd2d",
   "metadata": {},
   "outputs": [],
   "source": [
    "#Tokenization\n",
    "vocab_size = 20000\n",
    "max_length = 100\n",
    "\n",
    "tokenizer = Tokenizer(num_words=vocab_size, oov_token=\"<OOV>\")\n",
    "tokenizer.fit_on_texts(X_train)\n",
    "\n",
    "X_train_seq = tokenizer.texts_to_sequences(X_train)\n",
    "X_test_seq = tokenizer.texts_to_sequences(X_test)\n",
    "\n",
    "X_train_pad = pad_sequences(X_train_seq, maxlen=max_length, padding='post', truncating='post')\n",
    "X_test_pad = pad_sequences(X_test_seq, maxlen=max_length, padding='post', truncating='post')\n"
   ]
  },
  {
   "cell_type": "code",
   "execution_count": null,
   "id": "dd8cb368",
   "metadata": {},
   "outputs": [
    {
     "name": "stdout",
     "output_type": "stream",
     "text": [
      "Class Weights: {0: np.float64(0.5849551095586416), 1: np.float64(1.3683982895275593), 2: np.float64(1.7867170129299967)}\n"
     ]
    }
   ],
   "source": [
    "#Computing class weights\n",
    "class_weights = compute_class_weight(class_weight='balanced', classes=np.unique(y_train), y=y_train)\n",
    "class_weights_dict = dict(enumerate(class_weights))\n",
    "print(\"Class Weights:\", class_weights_dict)"
   ]
  },
  {
   "cell_type": "code",
   "execution_count": null,
   "id": "8ec2caa0",
   "metadata": {},
   "outputs": [
    {
     "data": {
      "text/html": [
       "<pre style=\"white-space:pre;overflow-x:auto;line-height:normal;font-family:Menlo,'DejaVu Sans Mono',consolas,'Courier New',monospace\"><span style=\"font-weight: bold\">Model: \"sequential_4\"</span>\n",
       "</pre>\n"
      ],
      "text/plain": [
       "\u001b[1mModel: \"sequential_4\"\u001b[0m\n"
      ]
     },
     "metadata": {},
     "output_type": "display_data"
    },
    {
     "data": {
      "text/html": [
       "<pre style=\"white-space:pre;overflow-x:auto;line-height:normal;font-family:Menlo,'DejaVu Sans Mono',consolas,'Courier New',monospace\">┏━━━━━━━━━━━━━━━━━━━━━━━━━━━━━━━━━┳━━━━━━━━━━━━━━━━━━━━━━━━┳━━━━━━━━━━━━━━━┓\n",
       "┃<span style=\"font-weight: bold\"> Layer (type)                    </span>┃<span style=\"font-weight: bold\"> Output Shape           </span>┃<span style=\"font-weight: bold\">       Param # </span>┃\n",
       "┡━━━━━━━━━━━━━━━━━━━━━━━━━━━━━━━━━╇━━━━━━━━━━━━━━━━━━━━━━━━╇━━━━━━━━━━━━━━━┩\n",
       "│ embedding_4 (<span style=\"color: #0087ff; text-decoration-color: #0087ff\">Embedding</span>)         │ ?                      │   <span style=\"color: #00af00; text-decoration-color: #00af00\">0</span> (unbuilt) │\n",
       "├─────────────────────────────────┼────────────────────────┼───────────────┤\n",
       "│ bidirectional_8 (<span style=\"color: #0087ff; text-decoration-color: #0087ff\">Bidirectional</span>) │ ?                      │   <span style=\"color: #00af00; text-decoration-color: #00af00\">0</span> (unbuilt) │\n",
       "├─────────────────────────────────┼────────────────────────┼───────────────┤\n",
       "│ dropout_8 (<span style=\"color: #0087ff; text-decoration-color: #0087ff\">Dropout</span>)             │ ?                      │             <span style=\"color: #00af00; text-decoration-color: #00af00\">0</span> │\n",
       "├─────────────────────────────────┼────────────────────────┼───────────────┤\n",
       "│ bidirectional_9 (<span style=\"color: #0087ff; text-decoration-color: #0087ff\">Bidirectional</span>) │ ?                      │   <span style=\"color: #00af00; text-decoration-color: #00af00\">0</span> (unbuilt) │\n",
       "├─────────────────────────────────┼────────────────────────┼───────────────┤\n",
       "│ dropout_9 (<span style=\"color: #0087ff; text-decoration-color: #0087ff\">Dropout</span>)             │ ?                      │             <span style=\"color: #00af00; text-decoration-color: #00af00\">0</span> │\n",
       "├─────────────────────────────────┼────────────────────────┼───────────────┤\n",
       "│ dense_8 (<span style=\"color: #0087ff; text-decoration-color: #0087ff\">Dense</span>)                 │ ?                      │   <span style=\"color: #00af00; text-decoration-color: #00af00\">0</span> (unbuilt) │\n",
       "├─────────────────────────────────┼────────────────────────┼───────────────┤\n",
       "│ dense_9 (<span style=\"color: #0087ff; text-decoration-color: #0087ff\">Dense</span>)                 │ ?                      │   <span style=\"color: #00af00; text-decoration-color: #00af00\">0</span> (unbuilt) │\n",
       "└─────────────────────────────────┴────────────────────────┴───────────────┘\n",
       "</pre>\n"
      ],
      "text/plain": [
       "┏━━━━━━━━━━━━━━━━━━━━━━━━━━━━━━━━━┳━━━━━━━━━━━━━━━━━━━━━━━━┳━━━━━━━━━━━━━━━┓\n",
       "┃\u001b[1m \u001b[0m\u001b[1mLayer (type)                   \u001b[0m\u001b[1m \u001b[0m┃\u001b[1m \u001b[0m\u001b[1mOutput Shape          \u001b[0m\u001b[1m \u001b[0m┃\u001b[1m \u001b[0m\u001b[1m      Param #\u001b[0m\u001b[1m \u001b[0m┃\n",
       "┡━━━━━━━━━━━━━━━━━━━━━━━━━━━━━━━━━╇━━━━━━━━━━━━━━━━━━━━━━━━╇━━━━━━━━━━━━━━━┩\n",
       "│ embedding_4 (\u001b[38;5;33mEmbedding\u001b[0m)         │ ?                      │   \u001b[38;5;34m0\u001b[0m (unbuilt) │\n",
       "├─────────────────────────────────┼────────────────────────┼───────────────┤\n",
       "│ bidirectional_8 (\u001b[38;5;33mBidirectional\u001b[0m) │ ?                      │   \u001b[38;5;34m0\u001b[0m (unbuilt) │\n",
       "├─────────────────────────────────┼────────────────────────┼───────────────┤\n",
       "│ dropout_8 (\u001b[38;5;33mDropout\u001b[0m)             │ ?                      │             \u001b[38;5;34m0\u001b[0m │\n",
       "├─────────────────────────────────┼────────────────────────┼───────────────┤\n",
       "│ bidirectional_9 (\u001b[38;5;33mBidirectional\u001b[0m) │ ?                      │   \u001b[38;5;34m0\u001b[0m (unbuilt) │\n",
       "├─────────────────────────────────┼────────────────────────┼───────────────┤\n",
       "│ dropout_9 (\u001b[38;5;33mDropout\u001b[0m)             │ ?                      │             \u001b[38;5;34m0\u001b[0m │\n",
       "├─────────────────────────────────┼────────────────────────┼───────────────┤\n",
       "│ dense_8 (\u001b[38;5;33mDense\u001b[0m)                 │ ?                      │   \u001b[38;5;34m0\u001b[0m (unbuilt) │\n",
       "├─────────────────────────────────┼────────────────────────┼───────────────┤\n",
       "│ dense_9 (\u001b[38;5;33mDense\u001b[0m)                 │ ?                      │   \u001b[38;5;34m0\u001b[0m (unbuilt) │\n",
       "└─────────────────────────────────┴────────────────────────┴───────────────┘\n"
      ]
     },
     "metadata": {},
     "output_type": "display_data"
    },
    {
     "data": {
      "text/html": [
       "<pre style=\"white-space:pre;overflow-x:auto;line-height:normal;font-family:Menlo,'DejaVu Sans Mono',consolas,'Courier New',monospace\"><span style=\"font-weight: bold\"> Total params: </span><span style=\"color: #00af00; text-decoration-color: #00af00\">0</span> (0.00 B)\n",
       "</pre>\n"
      ],
      "text/plain": [
       "\u001b[1m Total params: \u001b[0m\u001b[38;5;34m0\u001b[0m (0.00 B)\n"
      ]
     },
     "metadata": {},
     "output_type": "display_data"
    },
    {
     "data": {
      "text/html": [
       "<pre style=\"white-space:pre;overflow-x:auto;line-height:normal;font-family:Menlo,'DejaVu Sans Mono',consolas,'Courier New',monospace\"><span style=\"font-weight: bold\"> Trainable params: </span><span style=\"color: #00af00; text-decoration-color: #00af00\">0</span> (0.00 B)\n",
       "</pre>\n"
      ],
      "text/plain": [
       "\u001b[1m Trainable params: \u001b[0m\u001b[38;5;34m0\u001b[0m (0.00 B)\n"
      ]
     },
     "metadata": {},
     "output_type": "display_data"
    },
    {
     "data": {
      "text/html": [
       "<pre style=\"white-space:pre;overflow-x:auto;line-height:normal;font-family:Menlo,'DejaVu Sans Mono',consolas,'Courier New',monospace\"><span style=\"font-weight: bold\"> Non-trainable params: </span><span style=\"color: #00af00; text-decoration-color: #00af00\">0</span> (0.00 B)\n",
       "</pre>\n"
      ],
      "text/plain": [
       "\u001b[1m Non-trainable params: \u001b[0m\u001b[38;5;34m0\u001b[0m (0.00 B)\n"
      ]
     },
     "metadata": {},
     "output_type": "display_data"
    }
   ],
   "source": [
    "#Buildding the BiLSTM Model\n",
    "embedding_dim = 128\n",
    "\n",
    "model = Sequential([\n",
    "    Embedding(input_dim=vocab_size, output_dim=embedding_dim, input_length=max_length),\n",
    "    Bidirectional(LSTM(64, return_sequences=True)),\n",
    "    Dropout(0.3),\n",
    "    Bidirectional(LSTM(32)),\n",
    "    Dropout(0.3),\n",
    "    Dense(64, activation='relu'),\n",
    "    Dense(3, activation='softmax')\n",
    "])\n",
    "\n",
    "model.compile(loss='sparse_categorical_crossentropy', optimizer='adam', metrics=['accuracy'])\n",
    "model.summary()"
   ]
  },
  {
   "cell_type": "code",
   "execution_count": 10,
   "id": "e26a4b4e",
   "metadata": {},
   "outputs": [
    {
     "name": "stdout",
     "output_type": "stream",
     "text": [
      "Epoch 1/10\n",
      "\u001b[1m4206/4206\u001b[0m \u001b[32m━━━━━━━━━━━━━━━━━━━━\u001b[0m\u001b[37m\u001b[0m \u001b[1m1219s\u001b[0m 289ms/step - accuracy: 0.7736 - loss: 0.5606 - val_accuracy: 0.8331 - val_loss: 0.4056\n",
      "Epoch 2/10\n",
      "\u001b[1m4206/4206\u001b[0m \u001b[32m━━━━━━━━━━━━━━━━━━━━\u001b[0m\u001b[37m\u001b[0m \u001b[1m1190s\u001b[0m 283ms/step - accuracy: 0.8522 - loss: 0.3773 - val_accuracy: 0.8514 - val_loss: 0.3647\n",
      "Epoch 3/10\n",
      "\u001b[1m4206/4206\u001b[0m \u001b[32m━━━━━━━━━━━━━━━━━━━━\u001b[0m\u001b[37m\u001b[0m \u001b[1m1197s\u001b[0m 285ms/step - accuracy: 0.8691 - loss: 0.3324 - val_accuracy: 0.8586 - val_loss: 0.3459\n",
      "Epoch 4/10\n",
      "\u001b[1m4206/4206\u001b[0m \u001b[32m━━━━━━━━━━━━━━━━━━━━\u001b[0m\u001b[37m\u001b[0m \u001b[1m1163s\u001b[0m 276ms/step - accuracy: 0.8827 - loss: 0.2967 - val_accuracy: 0.8532 - val_loss: 0.3613\n",
      "Epoch 5/10\n",
      "\u001b[1m4206/4206\u001b[0m \u001b[32m━━━━━━━━━━━━━━━━━━━━\u001b[0m\u001b[37m\u001b[0m \u001b[1m1161s\u001b[0m 276ms/step - accuracy: 0.8953 - loss: 0.2640 - val_accuracy: 0.8516 - val_loss: 0.3735\n",
      "Epoch 6/10\n",
      "\u001b[1m4206/4206\u001b[0m \u001b[32m━━━━━━━━━━━━━━━━━━━━\u001b[0m\u001b[37m\u001b[0m \u001b[1m1183s\u001b[0m 281ms/step - accuracy: 0.9071 - loss: 0.2345 - val_accuracy: 0.8570 - val_loss: 0.3729\n",
      "Epoch 7/10\n",
      "\u001b[1m4206/4206\u001b[0m \u001b[32m━━━━━━━━━━━━━━━━━━━━\u001b[0m\u001b[37m\u001b[0m \u001b[1m1217s\u001b[0m 289ms/step - accuracy: 0.9164 - loss: 0.2094 - val_accuracy: 0.8504 - val_loss: 0.4062\n",
      "Epoch 8/10\n",
      "\u001b[1m4206/4206\u001b[0m \u001b[32m━━━━━━━━━━━━━━━━━━━━\u001b[0m\u001b[37m\u001b[0m \u001b[1m1215s\u001b[0m 289ms/step - accuracy: 0.9244 - loss: 0.1884 - val_accuracy: 0.8497 - val_loss: 0.4379\n",
      "Epoch 9/10\n",
      "\u001b[1m4206/4206\u001b[0m \u001b[32m━━━━━━━━━━━━━━━━━━━━\u001b[0m\u001b[37m\u001b[0m \u001b[1m1204s\u001b[0m 286ms/step - accuracy: 0.9314 - loss: 0.1709 - val_accuracy: 0.8463 - val_loss: 0.4551\n",
      "Epoch 10/10\n",
      "\u001b[1m4206/4206\u001b[0m \u001b[32m━━━━━━━━━━━━━━━━━━━━\u001b[0m\u001b[37m\u001b[0m \u001b[1m1191s\u001b[0m 283ms/step - accuracy: 0.9372 - loss: 0.1568 - val_accuracy: 0.8407 - val_loss: 0.4974\n"
     ]
    }
   ],
   "source": [
    "#Training the BiLSTM model 80/20\n",
    "history = model.fit( X_train_pad, y_train, validation_data=(X_test_pad, y_test), \n",
    "                    epochs=10, batch_size=256, class_weight=class_weights_dict,verbose=1\n",
    ")"
   ]
  },
  {
   "cell_type": "code",
   "execution_count": null,
   "id": "90a25fd6",
   "metadata": {},
   "outputs": [
    {
     "name": "stdout",
     "output_type": "stream",
     "text": [
      "Epoch 1/10\n",
      "\u001b[1m3680/3680\u001b[0m \u001b[32m━━━━━━━━━━━━━━━━━━━━\u001b[0m\u001b[37m\u001b[0m \u001b[1m1064s\u001b[0m 288ms/step - accuracy: 0.7704 - loss: 0.5764 - val_accuracy: 0.8420 - val_loss: 0.3822\n",
      "Epoch 2/10\n",
      "\u001b[1m3680/3680\u001b[0m \u001b[32m━━━━━━━━━━━━━━━━━━━━\u001b[0m\u001b[37m\u001b[0m \u001b[1m1054s\u001b[0m 286ms/step - accuracy: 0.8498 - loss: 0.3795 - val_accuracy: 0.8380 - val_loss: 0.3983\n",
      "Epoch 3/10\n",
      "\u001b[1m3680/3680\u001b[0m \u001b[32m━━━━━━━━━━━━━━━━━━━━\u001b[0m\u001b[37m\u001b[0m \u001b[1m1016s\u001b[0m 276ms/step - accuracy: 0.8670 - loss: 0.3372 - val_accuracy: 0.8519 - val_loss: 0.3579\n",
      "Epoch 4/10\n",
      "\u001b[1m3680/3680\u001b[0m \u001b[32m━━━━━━━━━━━━━━━━━━━━\u001b[0m\u001b[37m\u001b[0m \u001b[1m1018s\u001b[0m 277ms/step - accuracy: 0.8812 - loss: 0.2990 - val_accuracy: 0.8504 - val_loss: 0.3654\n",
      "Epoch 5/10\n",
      "\u001b[1m3680/3680\u001b[0m \u001b[32m━━━━━━━━━━━━━━━━━━━━\u001b[0m\u001b[37m\u001b[0m \u001b[1m1015s\u001b[0m 276ms/step - accuracy: 0.8938 - loss: 0.2664 - val_accuracy: 0.8492 - val_loss: 0.3891\n",
      "Epoch 6/10\n",
      "\u001b[1m3680/3680\u001b[0m \u001b[32m━━━━━━━━━━━━━━━━━━━━\u001b[0m\u001b[37m\u001b[0m \u001b[1m1013s\u001b[0m 275ms/step - accuracy: 0.9057 - loss: 0.2348 - val_accuracy: 0.8510 - val_loss: 0.3957\n",
      "Epoch 7/10\n",
      "\u001b[1m3680/3680\u001b[0m \u001b[32m━━━━━━━━━━━━━━━━━━━━\u001b[0m\u001b[37m\u001b[0m \u001b[1m1019s\u001b[0m 277ms/step - accuracy: 0.9154 - loss: 0.2110 - val_accuracy: 0.8306 - val_loss: 0.4607\n",
      "Epoch 8/10\n",
      "\u001b[1m3680/3680\u001b[0m \u001b[32m━━━━━━━━━━━━━━━━━━━━\u001b[0m\u001b[37m\u001b[0m \u001b[1m1027s\u001b[0m 279ms/step - accuracy: 0.9240 - loss: 0.1897 - val_accuracy: 0.8480 - val_loss: 0.4352\n",
      "Epoch 9/10\n",
      "\u001b[1m3680/3680\u001b[0m \u001b[32m━━━━━━━━━━━━━━━━━━━━\u001b[0m\u001b[37m\u001b[0m \u001b[1m1014s\u001b[0m 275ms/step - accuracy: 0.9314 - loss: 0.1715 - val_accuracy: 0.8432 - val_loss: 0.4712\n",
      "Epoch 10/10\n",
      "\u001b[1m3680/3680\u001b[0m \u001b[32m━━━━━━━━━━━━━━━━━━━━\u001b[0m\u001b[37m\u001b[0m \u001b[1m1046s\u001b[0m 284ms/step - accuracy: 0.9380 - loss: 0.1553 - val_accuracy: 0.8385 - val_loss: 0.5143\n"
     ]
    }
   ],
   "source": [
    "#Training the BiLSTM model 70/30\n",
    "history_70_30 = model.fit(X_train_pad, y_train, validation_data=(X_test_pad, y_test),\n",
    "                          epochs=10, batch_size=256, class_weight=class_weights_dict,verbose=1\n",
    ")"
   ]
  },
  {
   "cell_type": "code",
   "execution_count": 38,
   "id": "ffb2968b",
   "metadata": {},
   "outputs": [
    {
     "name": "stdout",
     "output_type": "stream",
     "text": [
      "Epoch 1/10\n",
      "\u001b[1m3943/3943\u001b[0m \u001b[32m━━━━━━━━━━━━━━━━━━━━\u001b[0m\u001b[37m\u001b[0m \u001b[1m1067s\u001b[0m 270ms/step - accuracy: 0.7696 - loss: 0.5662 - val_accuracy: 0.8431 - val_loss: 0.3820\n",
      "Epoch 2/10\n",
      "\u001b[1m3943/3943\u001b[0m \u001b[32m━━━━━━━━━━━━━━━━━━━━\u001b[0m\u001b[37m\u001b[0m \u001b[1m1053s\u001b[0m 267ms/step - accuracy: 0.8509 - loss: 0.3790 - val_accuracy: 0.8557 - val_loss: 0.3493\n",
      "Epoch 3/10\n",
      "\u001b[1m3943/3943\u001b[0m \u001b[32m━━━━━━━━━━━━━━━━━━━━\u001b[0m\u001b[37m\u001b[0m \u001b[1m1031s\u001b[0m 262ms/step - accuracy: 0.8676 - loss: 0.3343 - val_accuracy: 0.8534 - val_loss: 0.3571\n",
      "Epoch 4/10\n",
      "\u001b[1m3943/3943\u001b[0m \u001b[32m━━━━━━━━━━━━━━━━━━━━\u001b[0m\u001b[37m\u001b[0m \u001b[1m1054s\u001b[0m 267ms/step - accuracy: 0.8818 - loss: 0.2979 - val_accuracy: 0.8530 - val_loss: 0.3600\n",
      "Epoch 5/10\n",
      "\u001b[1m3943/3943\u001b[0m \u001b[32m━━━━━━━━━━━━━━━━━━━━\u001b[0m\u001b[37m\u001b[0m \u001b[1m1068s\u001b[0m 271ms/step - accuracy: 0.8941 - loss: 0.2643 - val_accuracy: 0.8521 - val_loss: 0.3850\n",
      "Epoch 6/10\n",
      "\u001b[1m3943/3943\u001b[0m \u001b[32m━━━━━━━━━━━━━━━━━━━━\u001b[0m\u001b[37m\u001b[0m \u001b[1m1055s\u001b[0m 267ms/step - accuracy: 0.9063 - loss: 0.2334 - val_accuracy: 0.8495 - val_loss: 0.4041\n",
      "Epoch 7/10\n",
      "\u001b[1m3943/3943\u001b[0m \u001b[32m━━━━━━━━━━━━━━━━━━━━\u001b[0m\u001b[37m\u001b[0m \u001b[1m1040s\u001b[0m 264ms/step - accuracy: 0.9163 - loss: 0.2094 - val_accuracy: 0.8492 - val_loss: 0.4130\n",
      "Epoch 8/10\n",
      "\u001b[1m3943/3943\u001b[0m \u001b[32m━━━━━━━━━━━━━━━━━━━━\u001b[0m\u001b[37m\u001b[0m \u001b[1m1062s\u001b[0m 269ms/step - accuracy: 0.9247 - loss: 0.1876 - val_accuracy: 0.8491 - val_loss: 0.4453\n",
      "Epoch 9/10\n",
      "\u001b[1m3943/3943\u001b[0m \u001b[32m━━━━━━━━━━━━━━━━━━━━\u001b[0m\u001b[37m\u001b[0m \u001b[1m1057s\u001b[0m 268ms/step - accuracy: 0.9314 - loss: 0.1700 - val_accuracy: 0.8448 - val_loss: 0.4792\n",
      "Epoch 10/10\n",
      "\u001b[1m3943/3943\u001b[0m \u001b[32m━━━━━━━━━━━━━━━━━━━━\u001b[0m\u001b[37m\u001b[0m \u001b[1m1053s\u001b[0m 267ms/step - accuracy: 0.9379 - loss: 0.1549 - val_accuracy: 0.8445 - val_loss: 0.5024\n"
     ]
    }
   ],
   "source": [
    "#Training the BiLSTM model 75/25\n",
    "history_75_25 = model.fit(X_train_pad, y_train, validation_data=(X_test_pad, y_test), \n",
    "                          epochs=10, batch_size=256, class_weight=class_weights_dict, verbose=1\n",
    ")"
   ]
  },
  {
   "cell_type": "code",
   "execution_count": null,
   "id": "257dadca",
   "metadata": {},
   "outputs": [
    {
     "name": "stderr",
     "output_type": "stream",
     "text": [
      "WARNING:absl:You are saving your model as an HDF5 file via `model.save()` or `keras.saving.save_model(model)`. This file format is considered legacy. We recommend using instead the native Keras format, e.g. `model.save('my_model.keras')` or `keras.saving.save_model(model, 'my_model.keras')`. \n"
     ]
    }
   ],
   "source": [
    "#Saving the model\n",
    "model.save('../models/bilstm_model.h5')"
   ]
  },
  {
   "cell_type": "code",
   "execution_count": 13,
   "id": "70d44ea3",
   "metadata": {},
   "outputs": [
    {
     "data": {
      "image/png": "[encoded data removed]",
      "text/plain": [
       "<Figure size 1200x500 with 2 Axes>"
      ]
     },
     "metadata": {},
     "output_type": "display_data"
    }
   ],
   "source": [
    "# Plotting acurrancy and loss\n",
    "plt.figure(figsize=(12, 5))\n",
    "plt.subplot(1, 2, 1)\n",
    "plt.plot(history.history['accuracy'], label='Train Acc')\n",
    "plt.plot(history.history['val_accuracy'], label='Val Acc')\n",
    "plt.title(\"Accuracy\")\n",
    "plt.legend()\n",
    "plt.subplot(1, 2, 2)\n",
    "plt.plot(history.history['loss'], label='Train Loss')\n",
    "plt.plot(history.history['val_loss'], label='Val Loss')\n",
    "plt.title(\"Loss\")\n",
    "plt.legend()\n",
    "plt.show()\n"
   ]
  },
  {
   "cell_type": "code",
   "execution_count": 14,
   "id": "4770611b",
   "metadata": {},
   "outputs": [
    {
     "name": "stdout",
     "output_type": "stream",
     "text": [
      "\u001b[1m8411/8411\u001b[0m \u001b[32m━━━━━━━━━━━━━━━━━━━━\u001b[0m\u001b[37m\u001b[0m \u001b[1m202s\u001b[0m 24ms/step\n",
      "Classification Report:\n",
      "              precision    recall  f1-score   support\n",
      "\n",
      "    negative       0.94      0.86      0.90    153371\n",
      "     neutral       0.70      0.79      0.74     65563\n",
      "    positive       0.77      0.85      0.81     50212\n",
      "\n",
      "    accuracy                           0.84    269146\n",
      "   macro avg       0.80      0.83      0.82    269146\n",
      "weighted avg       0.85      0.84      0.84    269146\n",
      "\n",
      "Confusion Matrix:\n"
     ]
    },
    {
     "data": {
      "image/png": "[encoded data removed]",
      "text/plain": [
       "<Figure size 640x480 with 2 Axes>"
      ]
     },
     "metadata": {},
     "output_type": "display_data"
    }
   ],
   "source": [
    "#Predicting and evaluating\n",
    "y_pred = model.predict(X_test_pad)\n",
    "y_pred_classes = np.argmax(y_pred, axis=1)\n",
    "\n",
    "print(\"Classification Report:\")\n",
    "print(classification_report(y_test, y_pred_classes, target_names=label_encoder.classes_))\n",
    "\n",
    "print(\"Confusion Matrix:\")\n",
    "sns.heatmap(confusion_matrix(y_test, y_pred_classes), annot=True, fmt='d', cmap='Blues',xticklabels=label_encoder.classes_, yticklabels=label_encoder.classes_)\n",
    "plt.xlabel(\"Predicted\")\n",
    "plt.ylabel(\"True\")\n",
    "plt.show()\n"
   ]
  },
  {
   "cell_type": "code",
   "execution_count": null,
   "id": "d587582e",
   "metadata": {},
   "outputs": [],
   "source": [
    "#Saving Classification Report in Json\n",
    "\n",
    "#Converting predictions to class indices\n",
    "y_pred_labels = np.argmax(y_pred, axis=1)\n",
    "\n",
    "#Creating a label mapping update if the label encoding is different\n",
    "label_mapping = {0: \"negative\", 1: \"neutral\", 2: \"positive\"}\n",
    "\n",
    "#Converting indices to class names\n",
    "y_pred_classes = [label_mapping[i] for i in y_pred_labels]\n",
    "\n",
    "#Converting y_test to class names\n",
    "y_test_classes = [label_mapping[i] if isinstance(i, int) else i for i in y_test]\n",
    "\n",
    "#Generating classification report\n",
    "labels = [\"negative\", \"neutral\", \"positive\"]\n",
    "report = classification_report(y_test_classes, y_pred_classes, target_names=labels, output_dict=True)\n",
    "\n",
    "#Saing it to JSON\n",
    "with open(\"../results/bilstm_results_80_20.json\", \"w\") as f:\n",
    "    json.dump(report, f, indent=4)\n"
   ]
  },
  {
   "cell_type": "code",
   "execution_count": null,
   "id": "02cba009",
   "metadata": {},
   "outputs": [
    {
     "name": "stdout",
     "output_type": "stream",
     "text": [
      "Confusion matrix saved as PNG and CSV.\n"
     ]
    }
   ],
   "source": [
    "#Saving confusion matrix in png and csv\n",
    "cm = confusion_matrix(y_test_classes, y_pred_classes, labels=labels)\n",
    "\n",
    "#Saving the PNG image\n",
    "disp = ConfusionMatrixDisplay(confusion_matrix=cm, display_labels=labels)\n",
    "disp.plot(cmap=\"Blues\")\n",
    "plt.title(\"BiLSTM Confusion Matrix (80/20 Split)\")\n",
    "plt.savefig(\"../results/bilstm_confusion_matrix_80_20.png\")\n",
    "plt.close()\n",
    "\n",
    "#Save CSV version\n",
    "pd.DataFrame(cm, index=labels, columns=labels).to_csv(\"../results/bilstm_confusion_matrix_80_20.csv\")\n",
    "\n",
    "print(\"Confusion matrix saved as PNG and CSV.\")"
   ]
  },
  {
   "cell_type": "code",
   "execution_count": 31,
   "id": "c4d4d836",
   "metadata": {},
   "outputs": [
    {
     "name": "stdout",
     "output_type": "stream",
     "text": [
      "\u001b[1m12617/12617\u001b[0m \u001b[32m━━━━━━━━━━━━━━━━━━━━\u001b[0m\u001b[37m\u001b[0m \u001b[1m293s\u001b[0m 23ms/step\n",
      "              precision    recall  f1-score   support\n",
      "\n",
      "    negative       0.95      0.85      0.90    230057\n",
      "     neutral       0.68      0.80      0.74     98344\n",
      "    positive       0.78      0.84      0.81     75318\n",
      "\n",
      "    accuracy                           0.84    403719\n",
      "   macro avg       0.80      0.83      0.82    403719\n",
      "weighted avg       0.85      0.84      0.84    403719\n",
      "\n",
      "BiLSTM 70/30 results saved.\n"
     ]
    }
   ],
   "source": [
    "#Predicting\n",
    "y_pred_70_30 = model.predict(X_test_pad)\n",
    "y_pred_labels_70_30 = np.argmax(y_pred_70_30, axis=1)\n",
    "\n",
    "#Labels\n",
    "label_map = {0: 'negative', 1: 'neutral', 2: 'positive'}\n",
    "labels = ['negative', 'neutral', 'positive']\n",
    "\n",
    "#Classification report\n",
    "report_70_30 = classification_report(\n",
    "    y_test, y_pred_labels_70_30, target_names=labels, output_dict=True\n",
    ")\n",
    "print(classification_report(y_test, y_pred_labels_70_30, target_names=labels))\n",
    "\n",
    "#Saving report\n",
    "with open(\"../results/bilstm/bilstm_results_70_30.json\", \"w\") as f:\n",
    "    json.dump(report_70_30, f, indent=4)\n",
    "\n",
    "#Confusion Matrix\n",
    "cm = confusion_matrix(y_test, y_pred_labels_70_30, labels=[0, 1, 2])\n",
    "disp = ConfusionMatrixDisplay(confusion_matrix=cm, display_labels=labels)\n",
    "disp.plot(cmap=\"Blues\")\n",
    "plt.title(\"BiLSTM Confusion Matrix (70/30 Split)\")\n",
    "plt.savefig(\"../results/bilstm/bilstm_confusion_matrix_70_30.png\")\n",
    "plt.close()\n",
    "\n",
    "#Saving as CSV\n",
    "pd.DataFrame(cm, index=labels, columns=labels).to_csv(\"../results/bilstm/bilstm_confusion_matrix_70_30.csv\")\n",
    "\n",
    "print(\"BiLSTM 70/30 results saved.\")"
   ]
  },
  {
   "cell_type": "code",
   "execution_count": null,
   "id": "9663f794",
   "metadata": {},
   "outputs": [
    {
     "name": "stdout",
     "output_type": "stream",
     "text": [
      "\u001b[1m10514/10514\u001b[0m \u001b[32m━━━━━━━━━━━━━━━━━━━━\u001b[0m\u001b[37m\u001b[0m \u001b[1m242s\u001b[0m 23ms/step\n",
      "              precision    recall  f1-score   support\n",
      "\n",
      "    negative       0.94      0.87      0.90    191714\n",
      "     neutral       0.69      0.80      0.74     81953\n",
      "    positive       0.80      0.83      0.82     62765\n",
      "\n",
      "    accuracy                           0.84    336432\n",
      "   macro avg       0.81      0.83      0.82    336432\n",
      "weighted avg       0.85      0.84      0.85    336432\n",
      "\n",
      "BiLSTM 75/25 results saved.\n"
     ]
    }
   ],
   "source": [
    "#Predicting\n",
    "y_pred_75_25 = model.predict(X_test_pad)\n",
    "y_pred_labels_75_25 = np.argmax(y_pred_75_25, axis=1)\n",
    "\n",
    "#Classification report\n",
    "report_75_25 = classification_report(\n",
    "    y_test, y_pred_labels_75_25, target_names=labels, output_dict=True\n",
    ")\n",
    "print(classification_report(y_test, y_pred_labels_75_25, target_names=labels))\n",
    "\n",
    "#Saving to JSON report\n",
    "with open(\"../results/bilstm/bilstm_results_75_25.json\", \"w\") as f:\n",
    "    json.dump(report_75_25, f, indent=4)\n",
    "\n",
    "#Confusion matrix\n",
    "cm = confusion_matrix(y_test, y_pred_labels_75_25, labels=[0, 1, 2])\n",
    "disp = ConfusionMatrixDisplay(confusion_matrix=cm, display_labels=labels)\n",
    "disp.plot(cmap=\"Blues\")\n",
    "plt.title(\"BiLSTM Confusion Matrix (75/25 Split)\")\n",
    "plt.savefig(\"../results/bilstm/bilstm_confusion_matrix_75_25.png\")\n",
    "plt.close()\n",
    "\n",
    "#Saving CSV\n",
    "pd.DataFrame(cm, index=labels, columns=labels).to_csv(\"../results/bilstm/bilstm_confusion_matrix_75_25.csv\")\n",
    "\n",
    "print(\"BiLSTM 75/25 results saved.\")\n"
   ]
  },
  {
   "cell_type": "markdown",
   "id": "a3c8589b",
   "metadata": {},
   "source": [
    "#### BiLSTM Model Implementation\n",
    "\n",
    "In this notebook, we have implemented BiLSTM (Bidirectional Long Short-Term Memory) neural model where customer support messages are being classified, the reason why it was selected in this manner is that BiLSTM networks are particularly effective for understanding contextual information in sequential data which is this case with text classification tasks where order and dependencies matter.\n",
    "\n",
    "The fact not to use the pre-generated BERT embeddings in the previous notebook is one of the most important choices. Those embeddings have been flattened, and stored as chunked formats and hence cannot be fed through the sequential input structure of the BiLSTM. Instead, we have used tokenised and padded sequence based upon raw text with the help of Tokenizer form Keras package which could introduce necessary structured data to the model.\n",
    "\n",
    "The model structure was a non-trainable embedding layer, BiLSTM layer, dense layers, and a dropout as a regulariser. The results of training demonstrated that the BiLSTM led to competitive performance, more significantly it performed better than the PCA-based embeddings of conventional classifiers in handling the sequential nature of data. These results support the applicability of this architecture to deep learning part of the project and also confirms our decision to separate pipeline into ML and DL models."
   ]
  }
 ],
 "metadata": {
  "kernelspec": {
   "display_name": "sentiment_env",
   "language": "python",
   "name": "python3"
  },
  "language_info": {
   "codemirror_mode": {
    "name": "ipython",
    "version": 3
   },
   "file_extension": ".py",
   "mimetype": "text/x-python",
   "name": "python",
   "nbconvert_exporter": "python",
   "pygments_lexer": "ipython3",
   "version": "3.12.6"
  }
 },
 "nbformat": 4,
 "nbformat_minor": 5
}
